{
  "nbformat": 4,
  "nbformat_minor": 0,
  "metadata": {
    "colab": {
      "provenance": [],
      "collapsed_sections": []
    },
    "kernelspec": {
      "name": "python3",
      "display_name": "Python 3"
    },
    "language_info": {
      "name": "python"
    }
  },
  "cells": [
    {
      "cell_type": "code",
      "source": [
        "from google.colab import drive\n",
        "drive.mount('/content/drive')"
      ],
      "metadata": {
        "id": "9ZqXSQOhQaVZ",
        "colab": {
          "base_uri": "https://localhost:8080/"
        },
        "outputId": "ad848c00-d6f3-406b-fd0b-72c05cff68f4"
      },
      "execution_count": null,
      "outputs": [
        {
          "output_type": "stream",
          "name": "stdout",
          "text": [
            "Drive already mounted at /content/drive; to attempt to forcibly remount, call drive.mount(\"/content/drive\", force_remount=True).\n"
          ]
        }
      ]
    },
    {
      "cell_type": "code",
      "execution_count": null,
      "metadata": {
        "id": "-8dHzTPmHt84"
      },
      "outputs": [],
      "source": [
        "import pandas as pd\n",
        "import re"
      ]
    },
    {
      "cell_type": "code",
      "source": [
        "df = pd.read_csv('/content/drive/MyDrive/paper/code/original_data/photo_to_colo.csv')\n",
        "df1 = pd.read_csv('/content/drive/MyDrive/paper/code/original_data/all_csv.csv')"
      ],
      "metadata": {
        "id": "da7Vej9VHzCX"
      },
      "execution_count": null,
      "outputs": []
    },
    {
      "cell_type": "code",
      "source": [
        "name = list(df1.店名)\n",
        "web_address = list(df1.網址)\n",
        "for i in range(len(name)):\n",
        "    df_search=df['name'].str.startswith(name[i])\n",
        "    #.replace(\"/\",'').replace(\"_\",'&').replace(\"|\",'').replace(\"'\",'_').replace(\"&\",'_').replace(\"'\",\"'\")\n",
        "    df1_search = df1[df1.店名.str.startswith(name[i])]\n",
        "    df1_web_address = str(list(df1_search.網址)[0])\n",
        "    df1_start = float(list(df1_search.星級)[0])\n",
        "    df1_comment = int(list(df1_search.評論)[0])\n",
        "    df1_reply = str(list(df1_search.回復)[0])\n",
        "    df1_address = str(list(df1_search.地址)[0])\n",
        "    df.loc[df_search,'網址']=df1_web_address\n",
        "    df.loc[df_search,'星級']=df1_start\n",
        "    df.loc[df_search,'評論']=df1_comment\n",
        "    df.loc[df_search,'回復']=df1_reply\n",
        "    df.loc[df_search,'地址']=df1_address"
      ],
      "metadata": {
        "id": "wZO4t0tAINzn"
      },
      "execution_count": null,
      "outputs": []
    },
    {
      "cell_type": "code",
      "source": [
        "df = df.dropna(axis=0, how='any')"
      ],
      "metadata": {
        "id": "_ItN2CzasJuZ"
      },
      "execution_count": null,
      "outputs": []
    },
    {
      "cell_type": "code",
      "source": [
        "df.isnull().any()"
      ],
      "metadata": {
        "colab": {
          "base_uri": "https://localhost:8080/"
        },
        "id": "lV5CVa2FQ5GM",
        "outputId": "c248c993-3a35-4353-d0f1-b06ba11f3177"
      },
      "execution_count": null,
      "outputs": [
        {
          "output_type": "execute_result",
          "data": {
            "text/plain": [
              "name         False\n",
              "color        False\n",
              "hsv_color    False\n",
              "網址           False\n",
              "星級           False\n",
              "評論           False\n",
              "回復           False\n",
              "地址           False\n",
              "dtype: bool"
            ]
          },
          "metadata": {},
          "execution_count": 6
        }
      ]
    },
    {
      "cell_type": "code",
      "source": [
        "address = df['地址']\n",
        "address_list = []\n",
        "for i in address:\n",
        "    mobj = re.search(\"中區|東區|西區|南區|北區|西屯區|南屯區|北屯區|豐原區|大里區|太平區|清水區|沙鹿區|大甲區|東勢區|梧棲區|烏日區|神岡區|大肚區|大雅區|后里區|霧峰區|潭子區|龍井區|外埔區|和平區|石岡區|大安區|新社區\", i).group()\n",
        "    address_list.append(mobj)\n",
        "df['行政區']=address_list\n",
        "df.rename(columns={'color1': 'hsv_color'}, inplace=True)\n",
        "df.to_csv('/content/drive/MyDrive/paper/code/original_data/mix_googlemap_and_no_choose_photo_color.csv',encoding='utf-8-sig', index=False)"
      ],
      "metadata": {
        "id": "00DarbNsIQwR"
      },
      "execution_count": null,
      "outputs": []
    }
  ]
}