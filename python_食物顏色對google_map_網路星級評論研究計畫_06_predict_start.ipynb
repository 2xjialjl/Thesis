{
  "nbformat": 4,
  "nbformat_minor": 0,
  "metadata": {
    "colab": {
      "provenance": [],
      "collapsed_sections": []
    },
    "kernelspec": {
      "name": "python3",
      "display_name": "Python 3"
    },
    "language_info": {
      "name": "python"
    }
  },
  "cells": [
    {
      "cell_type": "code",
      "source": [
        "from google.colab import drive\n",
        "drive.mount('/content/drive')"
      ],
      "metadata": {
        "colab": {
          "base_uri": "https://localhost:8080/"
        },
        "id": "oRIUTnTBsZzG",
        "outputId": "fc288879-eff8-43b1-c9ad-a830f0bf3400"
      },
      "execution_count": null,
      "outputs": [
        {
          "output_type": "stream",
          "name": "stdout",
          "text": [
            "Mounted at /content/drive\n"
          ]
        }
      ]
    },
    {
      "cell_type": "code",
      "execution_count": null,
      "metadata": {
        "id": "uSI8LS-rIvqS"
      },
      "outputs": [],
      "source": [
        "import pandas as pd\n",
        "from sklearn.preprocessing import LabelEncoder\n",
        "from sklearn.model_selection import train_test_split\n",
        "from sklearn.linear_model import LogisticRegression\n",
        "from sklearn.metrics import roc_curve, auc,roc_auc_score\n",
        "from sklearn.metrics import classification_report\n",
        "import matplotlib.pyplot as plt\n",
        "import lightgbm as lgb\n",
        "import numpy as np\n",
        "from xgboost.sklearn import XGBClassifier\n",
        "from sklearn.multiclass import OneVsRestClassifier\n",
        "from sklearn.multiclass import OneVsOneClassifier\n",
        "from sklearn.ensemble import RandomForestClassifier\n",
        "from sklearn.tree import DecisionTreeClassifier"
      ]
    },
    {
      "cell_type": "code",
      "source": [
        "df = pd.read_csv('/content/drive/MyDrive/paper/code/original_data/mix_googlemap_and_no_choose_photo_color.csv')"
      ],
      "metadata": {
        "id": "jli1OWB7IyFh"
      },
      "execution_count": null,
      "outputs": []
    },
    {
      "cell_type": "code",
      "source": [
        "df"
      ],
      "metadata": {
        "colab": {
          "base_uri": "https://localhost:8080/",
          "height": 849
        },
        "id": "piOW8Mp5E2qV",
        "outputId": "f0c395f1-ad1a-4080-b790-eaaeb6feffea"
      },
      "execution_count": null,
      "outputs": [
        {
          "output_type": "execute_result",
          "data": {
            "text/plain": [
              "                      name                                              color  \\\n",
              "0      小鍋mini hotpot15.jpg  [[138.01896463352233, 119.11245515120537, 102....   \n",
              "1         范記金之園草袋飯 總店9.jpg  [[32.558143109684465, 31.146337714253846, 28.1...   \n",
              "2               臺中大麵羹3.jpg  [[37.03739002932923, 40.863343108502576, 28.80...   \n",
              "3              臺中大麵羹10.jpg  [[200.02585183154866, 187.85923083949143, 172....   \n",
              "4               臺中大麵羹8.jpg  [[215.02771098133923, 200.57082331385993, 172....   \n",
              "...                    ...                                                ...   \n",
              "10441          席樂法式料理7.jpg  [[187.7277681159475, 190.1232463768066, 187.00...   \n",
              "10442          席樂法式料理8.jpg  [[130.97702372754173, 124.25242596882305, 106....   \n",
              "10443         席樂法式料理15.jpg  [[81.75442247658917, 46.00356771221071, 14.412...   \n",
              "10444         席樂法式料理17.jpg  [[227.33348540146022, 217.65875912408194, 189....   \n",
              "10445          席樂法式料理9.jpg  [[200.75865571827427, 184.75146025564763, 164....   \n",
              "\n",
              "                hsv_color                                                 網址  \\\n",
              "0      ['黑色', '黃色', '橙色']  https://www.google.com.tw/maps/place/%E5%B0%8F...   \n",
              "1      ['灰色', '橙色', '橙色']  https://www.google.com.tw/maps/place/%E8%8C%83...   \n",
              "2      ['橙色', '黑色', '橙色']  https://www.google.com.tw/maps/place/%E8%87%BA...   \n",
              "3      ['橙色', '橙色', '橙色']  https://www.google.com.tw/maps/place/%E8%87%BA...   \n",
              "4      ['黑色', '灰色', '黑色']  https://www.google.com.tw/maps/place/%E8%87%BA...   \n",
              "...                   ...                                                ...   \n",
              "10441  ['橙色', '橙色', '黑色']  https://www.google.com.tw/maps/place/%E5%B8%AD...   \n",
              "10442  ['橙色', '橙色', '橙色']  https://www.google.com.tw/maps/place/%E5%B8%AD...   \n",
              "10443  ['橙色', '黑色', '橙色']  https://www.google.com.tw/maps/place/%E5%B8%AD...   \n",
              "10444  ['橙色', '橙色', '灰色']  https://www.google.com.tw/maps/place/%E5%B8%AD...   \n",
              "10445  ['橙色', '橙色', '黑色']  https://www.google.com.tw/maps/place/%E5%B8%AD...   \n",
              "\n",
              "        星級      評論                                                 回復  \\\n",
              "0      4.5   663.0  ['環境乾淨服務好，醬料放置在工具箱中挺有特色，食材新鮮，椅子好坐。', '小鍋近教育大學是...   \n",
              "1      4.1  2582.0  ['食材都現做，品質良好，口感佳，不管排骨、雞腿，還是沙茶牛肉都入口即化。強烈推薦！', '...   \n",
              "2      4.1   789.0  ['衛生環境不佳，出餐整個碗是湯湯水水外溢，小菜新鮮現作', '回台中必吃的 懷念家鄉味 從...   \n",
              "3      4.1   789.0  ['衛生環境不佳，出餐整個碗是湯湯水水外溢，小菜新鮮現作', '回台中必吃的 懷念家鄉味 從...   \n",
              "4      4.1   789.0  ['衛生環境不佳，出餐整個碗是湯湯水水外溢，小菜新鮮現作', '回台中必吃的 懷念家鄉味 從...   \n",
              "...    ...     ...                                                ...   \n",
              "10441  4.7  2863.0  ['從前餐到甜點，每道菜都感受的到主廚的手藝，很棒的體驗，以後有機會會再訪。', '用餐環境...   \n",
              "10442  4.7  2863.0  ['從前餐到甜點，每道菜都感受的到主廚的手藝，很棒的體驗，以後有機會會再訪。', '用餐環境...   \n",
              "10443  4.7  2863.0  ['從前餐到甜點，每道菜都感受的到主廚的手藝，很棒的體驗，以後有機會會再訪。', '用餐環境...   \n",
              "10444  4.7  2863.0  ['從前餐到甜點，每道菜都感受的到主廚的手藝，很棒的體驗，以後有機會會再訪。', '用餐環境...   \n",
              "10445  4.7  2863.0  ['從前餐到甜點，每道菜都感受的到主廚的手藝，很棒的體驗，以後有機會會再訪。', '用餐環境...   \n",
              "\n",
              "                     地址  行政區  \n",
              "0       400台中市中區民權路212號   中區  \n",
              "1       400台中市中區成功路170號   中區  \n",
              "2        400台中市中區公園路16號   中區  \n",
              "3        400台中市中區公園路16號   中區  \n",
              "4        400台中市中區公園路16號   中區  \n",
              "...                 ...  ...  \n",
              "10441  407台中市西屯區市政路569號  西屯區  \n",
              "10442  407台中市西屯區市政路569號  西屯區  \n",
              "10443  407台中市西屯區市政路569號  西屯區  \n",
              "10444  407台中市西屯區市政路569號  西屯區  \n",
              "10445  407台中市西屯區市政路569號  西屯區  \n",
              "\n",
              "[10446 rows x 9 columns]"
            ],
            "text/html": [
              "\n",
              "  <div id=\"df-d1b965bc-7631-4ae0-8901-8e64872ab018\">\n",
              "    <div class=\"colab-df-container\">\n",
              "      <div>\n",
              "<style scoped>\n",
              "    .dataframe tbody tr th:only-of-type {\n",
              "        vertical-align: middle;\n",
              "    }\n",
              "\n",
              "    .dataframe tbody tr th {\n",
              "        vertical-align: top;\n",
              "    }\n",
              "\n",
              "    .dataframe thead th {\n",
              "        text-align: right;\n",
              "    }\n",
              "</style>\n",
              "<table border=\"1\" class=\"dataframe\">\n",
              "  <thead>\n",
              "    <tr style=\"text-align: right;\">\n",
              "      <th></th>\n",
              "      <th>name</th>\n",
              "      <th>color</th>\n",
              "      <th>hsv_color</th>\n",
              "      <th>網址</th>\n",
              "      <th>星級</th>\n",
              "      <th>評論</th>\n",
              "      <th>回復</th>\n",
              "      <th>地址</th>\n",
              "      <th>行政區</th>\n",
              "    </tr>\n",
              "  </thead>\n",
              "  <tbody>\n",
              "    <tr>\n",
              "      <th>0</th>\n",
              "      <td>小鍋mini hotpot15.jpg</td>\n",
              "      <td>[[138.01896463352233, 119.11245515120537, 102....</td>\n",
              "      <td>['黑色', '黃色', '橙色']</td>\n",
              "      <td>https://www.google.com.tw/maps/place/%E5%B0%8F...</td>\n",
              "      <td>4.5</td>\n",
              "      <td>663.0</td>\n",
              "      <td>['環境乾淨服務好，醬料放置在工具箱中挺有特色，食材新鮮，椅子好坐。', '小鍋近教育大學是...</td>\n",
              "      <td>400台中市中區民權路212號</td>\n",
              "      <td>中區</td>\n",
              "    </tr>\n",
              "    <tr>\n",
              "      <th>1</th>\n",
              "      <td>范記金之園草袋飯 總店9.jpg</td>\n",
              "      <td>[[32.558143109684465, 31.146337714253846, 28.1...</td>\n",
              "      <td>['灰色', '橙色', '橙色']</td>\n",
              "      <td>https://www.google.com.tw/maps/place/%E8%8C%83...</td>\n",
              "      <td>4.1</td>\n",
              "      <td>2582.0</td>\n",
              "      <td>['食材都現做，品質良好，口感佳，不管排骨、雞腿，還是沙茶牛肉都入口即化。強烈推薦！', '...</td>\n",
              "      <td>400台中市中區成功路170號</td>\n",
              "      <td>中區</td>\n",
              "    </tr>\n",
              "    <tr>\n",
              "      <th>2</th>\n",
              "      <td>臺中大麵羹3.jpg</td>\n",
              "      <td>[[37.03739002932923, 40.863343108502576, 28.80...</td>\n",
              "      <td>['橙色', '黑色', '橙色']</td>\n",
              "      <td>https://www.google.com.tw/maps/place/%E8%87%BA...</td>\n",
              "      <td>4.1</td>\n",
              "      <td>789.0</td>\n",
              "      <td>['衛生環境不佳，出餐整個碗是湯湯水水外溢，小菜新鮮現作', '回台中必吃的 懷念家鄉味 從...</td>\n",
              "      <td>400台中市中區公園路16號</td>\n",
              "      <td>中區</td>\n",
              "    </tr>\n",
              "    <tr>\n",
              "      <th>3</th>\n",
              "      <td>臺中大麵羹10.jpg</td>\n",
              "      <td>[[200.02585183154866, 187.85923083949143, 172....</td>\n",
              "      <td>['橙色', '橙色', '橙色']</td>\n",
              "      <td>https://www.google.com.tw/maps/place/%E8%87%BA...</td>\n",
              "      <td>4.1</td>\n",
              "      <td>789.0</td>\n",
              "      <td>['衛生環境不佳，出餐整個碗是湯湯水水外溢，小菜新鮮現作', '回台中必吃的 懷念家鄉味 從...</td>\n",
              "      <td>400台中市中區公園路16號</td>\n",
              "      <td>中區</td>\n",
              "    </tr>\n",
              "    <tr>\n",
              "      <th>4</th>\n",
              "      <td>臺中大麵羹8.jpg</td>\n",
              "      <td>[[215.02771098133923, 200.57082331385993, 172....</td>\n",
              "      <td>['黑色', '灰色', '黑色']</td>\n",
              "      <td>https://www.google.com.tw/maps/place/%E8%87%BA...</td>\n",
              "      <td>4.1</td>\n",
              "      <td>789.0</td>\n",
              "      <td>['衛生環境不佳，出餐整個碗是湯湯水水外溢，小菜新鮮現作', '回台中必吃的 懷念家鄉味 從...</td>\n",
              "      <td>400台中市中區公園路16號</td>\n",
              "      <td>中區</td>\n",
              "    </tr>\n",
              "    <tr>\n",
              "      <th>...</th>\n",
              "      <td>...</td>\n",
              "      <td>...</td>\n",
              "      <td>...</td>\n",
              "      <td>...</td>\n",
              "      <td>...</td>\n",
              "      <td>...</td>\n",
              "      <td>...</td>\n",
              "      <td>...</td>\n",
              "      <td>...</td>\n",
              "    </tr>\n",
              "    <tr>\n",
              "      <th>10441</th>\n",
              "      <td>席樂法式料理7.jpg</td>\n",
              "      <td>[[187.7277681159475, 190.1232463768066, 187.00...</td>\n",
              "      <td>['橙色', '橙色', '黑色']</td>\n",
              "      <td>https://www.google.com.tw/maps/place/%E5%B8%AD...</td>\n",
              "      <td>4.7</td>\n",
              "      <td>2863.0</td>\n",
              "      <td>['從前餐到甜點，每道菜都感受的到主廚的手藝，很棒的體驗，以後有機會會再訪。', '用餐環境...</td>\n",
              "      <td>407台中市西屯區市政路569號</td>\n",
              "      <td>西屯區</td>\n",
              "    </tr>\n",
              "    <tr>\n",
              "      <th>10442</th>\n",
              "      <td>席樂法式料理8.jpg</td>\n",
              "      <td>[[130.97702372754173, 124.25242596882305, 106....</td>\n",
              "      <td>['橙色', '橙色', '橙色']</td>\n",
              "      <td>https://www.google.com.tw/maps/place/%E5%B8%AD...</td>\n",
              "      <td>4.7</td>\n",
              "      <td>2863.0</td>\n",
              "      <td>['從前餐到甜點，每道菜都感受的到主廚的手藝，很棒的體驗，以後有機會會再訪。', '用餐環境...</td>\n",
              "      <td>407台中市西屯區市政路569號</td>\n",
              "      <td>西屯區</td>\n",
              "    </tr>\n",
              "    <tr>\n",
              "      <th>10443</th>\n",
              "      <td>席樂法式料理15.jpg</td>\n",
              "      <td>[[81.75442247658917, 46.00356771221071, 14.412...</td>\n",
              "      <td>['橙色', '黑色', '橙色']</td>\n",
              "      <td>https://www.google.com.tw/maps/place/%E5%B8%AD...</td>\n",
              "      <td>4.7</td>\n",
              "      <td>2863.0</td>\n",
              "      <td>['從前餐到甜點，每道菜都感受的到主廚的手藝，很棒的體驗，以後有機會會再訪。', '用餐環境...</td>\n",
              "      <td>407台中市西屯區市政路569號</td>\n",
              "      <td>西屯區</td>\n",
              "    </tr>\n",
              "    <tr>\n",
              "      <th>10444</th>\n",
              "      <td>席樂法式料理17.jpg</td>\n",
              "      <td>[[227.33348540146022, 217.65875912408194, 189....</td>\n",
              "      <td>['橙色', '橙色', '灰色']</td>\n",
              "      <td>https://www.google.com.tw/maps/place/%E5%B8%AD...</td>\n",
              "      <td>4.7</td>\n",
              "      <td>2863.0</td>\n",
              "      <td>['從前餐到甜點，每道菜都感受的到主廚的手藝，很棒的體驗，以後有機會會再訪。', '用餐環境...</td>\n",
              "      <td>407台中市西屯區市政路569號</td>\n",
              "      <td>西屯區</td>\n",
              "    </tr>\n",
              "    <tr>\n",
              "      <th>10445</th>\n",
              "      <td>席樂法式料理9.jpg</td>\n",
              "      <td>[[200.75865571827427, 184.75146025564763, 164....</td>\n",
              "      <td>['橙色', '橙色', '黑色']</td>\n",
              "      <td>https://www.google.com.tw/maps/place/%E5%B8%AD...</td>\n",
              "      <td>4.7</td>\n",
              "      <td>2863.0</td>\n",
              "      <td>['從前餐到甜點，每道菜都感受的到主廚的手藝，很棒的體驗，以後有機會會再訪。', '用餐環境...</td>\n",
              "      <td>407台中市西屯區市政路569號</td>\n",
              "      <td>西屯區</td>\n",
              "    </tr>\n",
              "  </tbody>\n",
              "</table>\n",
              "<p>10446 rows × 9 columns</p>\n",
              "</div>\n",
              "      <button class=\"colab-df-convert\" onclick=\"convertToInteractive('df-d1b965bc-7631-4ae0-8901-8e64872ab018')\"\n",
              "              title=\"Convert this dataframe to an interactive table.\"\n",
              "              style=\"display:none;\">\n",
              "        \n",
              "  <svg xmlns=\"http://www.w3.org/2000/svg\" height=\"24px\"viewBox=\"0 0 24 24\"\n",
              "       width=\"24px\">\n",
              "    <path d=\"M0 0h24v24H0V0z\" fill=\"none\"/>\n",
              "    <path d=\"M18.56 5.44l.94 2.06.94-2.06 2.06-.94-2.06-.94-.94-2.06-.94 2.06-2.06.94zm-11 1L8.5 8.5l.94-2.06 2.06-.94-2.06-.94L8.5 2.5l-.94 2.06-2.06.94zm10 10l.94 2.06.94-2.06 2.06-.94-2.06-.94-.94-2.06-.94 2.06-2.06.94z\"/><path d=\"M17.41 7.96l-1.37-1.37c-.4-.4-.92-.59-1.43-.59-.52 0-1.04.2-1.43.59L10.3 9.45l-7.72 7.72c-.78.78-.78 2.05 0 2.83L4 21.41c.39.39.9.59 1.41.59.51 0 1.02-.2 1.41-.59l7.78-7.78 2.81-2.81c.8-.78.8-2.07 0-2.86zM5.41 20L4 18.59l7.72-7.72 1.47 1.35L5.41 20z\"/>\n",
              "  </svg>\n",
              "      </button>\n",
              "      \n",
              "  <style>\n",
              "    .colab-df-container {\n",
              "      display:flex;\n",
              "      flex-wrap:wrap;\n",
              "      gap: 12px;\n",
              "    }\n",
              "\n",
              "    .colab-df-convert {\n",
              "      background-color: #E8F0FE;\n",
              "      border: none;\n",
              "      border-radius: 50%;\n",
              "      cursor: pointer;\n",
              "      display: none;\n",
              "      fill: #1967D2;\n",
              "      height: 32px;\n",
              "      padding: 0 0 0 0;\n",
              "      width: 32px;\n",
              "    }\n",
              "\n",
              "    .colab-df-convert:hover {\n",
              "      background-color: #E2EBFA;\n",
              "      box-shadow: 0px 1px 2px rgba(60, 64, 67, 0.3), 0px 1px 3px 1px rgba(60, 64, 67, 0.15);\n",
              "      fill: #174EA6;\n",
              "    }\n",
              "\n",
              "    [theme=dark] .colab-df-convert {\n",
              "      background-color: #3B4455;\n",
              "      fill: #D2E3FC;\n",
              "    }\n",
              "\n",
              "    [theme=dark] .colab-df-convert:hover {\n",
              "      background-color: #434B5C;\n",
              "      box-shadow: 0px 1px 3px 1px rgba(0, 0, 0, 0.15);\n",
              "      filter: drop-shadow(0px 1px 2px rgba(0, 0, 0, 0.3));\n",
              "      fill: #FFFFFF;\n",
              "    }\n",
              "  </style>\n",
              "\n",
              "      <script>\n",
              "        const buttonEl =\n",
              "          document.querySelector('#df-d1b965bc-7631-4ae0-8901-8e64872ab018 button.colab-df-convert');\n",
              "        buttonEl.style.display =\n",
              "          google.colab.kernel.accessAllowed ? 'block' : 'none';\n",
              "\n",
              "        async function convertToInteractive(key) {\n",
              "          const element = document.querySelector('#df-d1b965bc-7631-4ae0-8901-8e64872ab018');\n",
              "          const dataTable =\n",
              "            await google.colab.kernel.invokeFunction('convertToInteractive',\n",
              "                                                     [key], {});\n",
              "          if (!dataTable) return;\n",
              "\n",
              "          const docLinkHtml = 'Like what you see? Visit the ' +\n",
              "            '<a target=\"_blank\" href=https://colab.research.google.com/notebooks/data_table.ipynb>data table notebook</a>'\n",
              "            + ' to learn more about interactive tables.';\n",
              "          element.innerHTML = '';\n",
              "          dataTable['output_type'] = 'display_data';\n",
              "          await google.colab.output.renderOutput(dataTable, element);\n",
              "          const docLink = document.createElement('div');\n",
              "          docLink.innerHTML = docLinkHtml;\n",
              "          element.appendChild(docLink);\n",
              "        }\n",
              "      </script>\n",
              "    </div>\n",
              "  </div>\n",
              "  "
            ]
          },
          "metadata": {},
          "execution_count": 19
        }
      ]
    },
    {
      "cell_type": "code",
      "source": [
        "df1 = df[['color','hsv_color','星級','評論','行政區']]\n",
        "color = df1['color']\n",
        "color_list = []\n",
        "rgb_color1_r = []\n",
        "rgb_color1_g = []\n",
        "rgb_color1_b = []\n",
        "rgb_color2_r = []\n",
        "rgb_color2_g = []\n",
        "rgb_color2_b = []\n",
        "rgb_color3_r = []\n",
        "rgb_color3_g = []\n",
        "rgb_color3_b = []\n",
        "for i in color:\n",
        "    clean = i.replace('[[','').replace(' [','').replace(']','').replace(' ','').split(',')\n",
        "    for j in clean:\n",
        "        color_list.append(j)\n",
        "for c1 in range(0,len(color_list),9):\n",
        "    rgb_color1_r.append(float(color_list[c1]))\n",
        "for c2 in range(1,len(color_list),9):\n",
        "    rgb_color1_g.append(float(color_list[c2]))\n",
        "for c3 in range(2,len(color_list),9):\n",
        "    rgb_color1_b.append(float(color_list[c3]))\n",
        "for c4 in range(3,len(color_list),9):\n",
        "    rgb_color2_r.append(float(color_list[c4]))\n",
        "for c5 in range(4,len(color_list),9):\n",
        "    rgb_color2_g.append(float(color_list[c5]))\n",
        "for c6 in range(5,len(color_list),9):\n",
        "    rgb_color2_b.append(float(color_list[c6]))\n",
        "for c7 in range(6,len(color_list),9):\n",
        "    rgb_color3_r.append(float(color_list[c7]))\n",
        "for c8 in range(7,len(color_list),9):\n",
        "    rgb_color3_g.append(float(color_list[c8]))\n",
        "for c9 in range(8,len(color_list),9):\n",
        "    rgb_color3_b.append(float(color_list[c9]))"
      ],
      "metadata": {
        "id": "wygZpFZlI7vJ"
      },
      "execution_count": null,
      "outputs": []
    },
    {
      "cell_type": "code",
      "source": [
        "df1['rgb_color1_r'] = rgb_color1_r\n",
        "df1['rgb_color1_g'] = rgb_color1_g\n",
        "df1['rgb_color1_b'] = rgb_color1_b\n",
        "df1['rgb_color2_r'] = rgb_color2_r\n",
        "df1['rgb_color2_g'] = rgb_color2_g\n",
        "df1['rgb_color2_b'] = rgb_color2_b\n",
        "df1['rgb_color3_r'] = rgb_color3_r\n",
        "df1['rgb_color3_g'] = rgb_color3_g\n",
        "df1['rgb_color3_b'] = rgb_color3_b"
      ],
      "metadata": {
        "id": "Jk1gDIpLI_ft",
        "colab": {
          "base_uri": "https://localhost:8080/"
        },
        "outputId": "6631fe42-b26e-41f5-ea29-d1d053a66b35"
      },
      "execution_count": null,
      "outputs": [
        {
          "output_type": "stream",
          "name": "stderr",
          "text": [
            "/usr/local/lib/python3.7/dist-packages/ipykernel_launcher.py:1: SettingWithCopyWarning: \n",
            "A value is trying to be set on a copy of a slice from a DataFrame.\n",
            "Try using .loc[row_indexer,col_indexer] = value instead\n",
            "\n",
            "See the caveats in the documentation: https://pandas.pydata.org/pandas-docs/stable/user_guide/indexing.html#returning-a-view-versus-a-copy\n",
            "  \"\"\"Entry point for launching an IPython kernel.\n",
            "/usr/local/lib/python3.7/dist-packages/ipykernel_launcher.py:2: SettingWithCopyWarning: \n",
            "A value is trying to be set on a copy of a slice from a DataFrame.\n",
            "Try using .loc[row_indexer,col_indexer] = value instead\n",
            "\n",
            "See the caveats in the documentation: https://pandas.pydata.org/pandas-docs/stable/user_guide/indexing.html#returning-a-view-versus-a-copy\n",
            "  \n",
            "/usr/local/lib/python3.7/dist-packages/ipykernel_launcher.py:3: SettingWithCopyWarning: \n",
            "A value is trying to be set on a copy of a slice from a DataFrame.\n",
            "Try using .loc[row_indexer,col_indexer] = value instead\n",
            "\n",
            "See the caveats in the documentation: https://pandas.pydata.org/pandas-docs/stable/user_guide/indexing.html#returning-a-view-versus-a-copy\n",
            "  This is separate from the ipykernel package so we can avoid doing imports until\n"
          ]
        }
      ]
    },
    {
      "cell_type": "code",
      "source": [
        "hsv_color = df1['hsv_color']\n",
        "hsv_color_list = []\n",
        "hsv_color1 = []\n",
        "hsv_color2 = []\n",
        "hsv_color3 = []\n",
        "for i in hsv_color:\n",
        "    hsv_clean = i.replace(\"['\", '').replace(\"'\", '').replace(\"]\", '').replace(' ', '').split(',')\n",
        "    for k in hsv_clean:\n",
        "        hsv_color_list.append(k)\n",
        "for u in range(0,len(hsv_color_list),3):\n",
        "    hsv_color1.append(hsv_color_list[u])\n",
        "for u in range(1,len(hsv_color_list),3):\n",
        "    hsv_color2.append(hsv_color_list[u])\n",
        "for u in range(2,len(hsv_color_list),3):\n",
        "    hsv_color3.append(hsv_color_list[u])"
      ],
      "metadata": {
        "id": "0C0jeJy0JBfT"
      },
      "execution_count": null,
      "outputs": []
    },
    {
      "cell_type": "code",
      "source": [
        "df1['hsv_color1'] = hsv_color1\n",
        "df1['hsv_color2'] = hsv_color2\n",
        "df1['hsv_color3'] = hsv_color3"
      ],
      "metadata": {
        "id": "Lcc9HousJD_t"
      },
      "execution_count": null,
      "outputs": []
    },
    {
      "cell_type": "code",
      "source": [
        "df2 =df1.drop(['color','hsv_color'], axis=1)"
      ],
      "metadata": {
        "id": "XVUM18s_JGiQ"
      },
      "execution_count": null,
      "outputs": []
    },
    {
      "cell_type": "code",
      "source": [
        "labelencoder = LabelEncoder()\n",
        "df2['行政區'] = labelencoder.fit_transform(df2['行政區'])\n",
        "df2['hsv_color1'] = labelencoder.fit_transform(df2['hsv_color1'])\n",
        "df2['hsv_color2'] = labelencoder.fit_transform(df2['hsv_color2'])\n",
        "df2['hsv_color3'] = labelencoder.fit_transform(df2['hsv_color3'])"
      ],
      "metadata": {
        "id": "y8t8O-8uJIvb"
      },
      "execution_count": null,
      "outputs": []
    },
    {
      "cell_type": "code",
      "source": [
        "df2['星級']=df2['星級'].astype(str).replace('4.1','0').replace('4.2','1').replace('4.3','2').replace('4.3','3').replace\\\n",
        "('4.4','4').replace('4.5','5').replace('4.6','6').replace('4.7','7').replace('4.8','8').replace('4.9','9')\n",
        "df2['星級']=df2['星級'].astype(int)"
      ],
      "metadata": {
        "id": "inYYTvcPJLo8"
      },
      "execution_count": null,
      "outputs": []
    },
    {
      "cell_type": "code",
      "source": [
        "df2.dtypes"
      ],
      "metadata": {
        "id": "oM9tfRSbJQ9w",
        "colab": {
          "base_uri": "https://localhost:8080/"
        },
        "outputId": "c3717c9d-7ca8-48a2-cabb-c2b653f5af24"
      },
      "execution_count": null,
      "outputs": [
        {
          "output_type": "execute_result",
          "data": {
            "text/plain": [
              "星級                int64\n",
              "評論              float64\n",
              "行政區               int64\n",
              "rgb_color1_r    float64\n",
              "rgb_color1_g    float64\n",
              "rgb_color1_b    float64\n",
              "rgb_color2_r    float64\n",
              "rgb_color2_g    float64\n",
              "rgb_color2_b    float64\n",
              "rgb_color3_r    float64\n",
              "rgb_color3_g    float64\n",
              "rgb_color3_b    float64\n",
              "hsv_color1        int64\n",
              "hsv_color2        int64\n",
              "hsv_color3        int64\n",
              "dtype: object"
            ]
          },
          "metadata": {},
          "execution_count": 15
        }
      ]
    },
    {
      "cell_type": "code",
      "source": [
        "data1 = df2.drop([\"星級\"], axis=1) #剔除 y\n",
        "X = data1 \n",
        "y = df2.星級 #選擇 y"
      ],
      "metadata": {
        "id": "WoAIGTPLJOMI"
      },
      "execution_count": null,
      "outputs": []
    },
    {
      "cell_type": "code",
      "source": [
        "X_train, X_test, y_train, y_test = train_test_split(X, y, test_size=0.3, random_state=0)"
      ],
      "metadata": {
        "id": "VyBEecAzJTDh"
      },
      "execution_count": null,
      "outputs": []
    },
    {
      "cell_type": "markdown",
      "source": [
        "# 機器學習"
      ],
      "metadata": {
        "id": "PcZ1W1GA5DWS"
      }
    },
    {
      "cell_type": "code",
      "source": [
        "lg = LogisticRegression(C=1.0, tol=1e-6, multi_class='multinomial', solver='newton-cg',penalty='l2')\n",
        "lg.fit(X_train,y_train)\n",
        "print('在測試數據集上的預測準確率: {:.2f}'.format(lg.score(X_test, y_test)))\n",
        "print(lg.score(X_test, y_test))\n",
        "print (\"\\n\\n ---邏輯回歸---\")"
      ],
      "metadata": {
        "id": "sol7BTqIJVNv",
        "colab": {
          "base_uri": "https://localhost:8080/"
        },
        "outputId": "22737392-4a03-4596-a03a-4464ed3bb8c1"
      },
      "execution_count": null,
      "outputs": [
        {
          "output_type": "stream",
          "name": "stdout",
          "text": [
            "在測試數據集上的預測準確率: 0.21\n",
            "0.20931716656030633\n",
            "\n",
            "\n",
            " ---邏輯回歸---\n"
          ]
        },
        {
          "output_type": "stream",
          "name": "stderr",
          "text": [
            "/usr/local/lib/python3.7/dist-packages/sklearn/utils/optimize.py:212: ConvergenceWarning: newton-cg failed to converge. Increase the number of iterations.\n",
            "  ConvergenceWarning,\n"
          ]
        }
      ]
    },
    {
      "cell_type": "code",
      "source": [
        "xgb = XGBClassifier(\n",
        "    #深度\n",
        "    max_depth=3, \n",
        "    #疊帶次數\n",
        "    n_estimators=200,\n",
        "    #學習數率\n",
        "    learn_rate =0.001,\n",
        "    objective = 'multi:softmax',\n",
        "    num_class=9)\n",
        "xgb.fit(X_train,y_train)\n",
        "print('在測試數據集上的預測準確率: {:.2f}'.format(xgb.score(X_test,y_test)))\n",
        "print(xgb.score(X_test,y_test))\n",
        "print (\"\\n\\n ---xgboost---\")"
      ],
      "metadata": {
        "id": "2X6ed4oLJW_u",
        "colab": {
          "base_uri": "https://localhost:8080/"
        },
        "outputId": "82c0b897-bf5c-46fa-e459-aed6fca61f6e"
      },
      "execution_count": null,
      "outputs": [
        {
          "output_type": "stream",
          "name": "stdout",
          "text": [
            "在測試數據集上的預測準確率: 0.62\n",
            "0.6225271218889598\n",
            "\n",
            "\n",
            " ---xgboost---\n"
          ]
        }
      ]
    },
    {
      "cell_type": "code",
      "source": [
        "rf_clf = RandomForestClassifier(n_estimators=1000, random_state=42,criterion='gini',max_features=10,max_depth=None)\n",
        "rf_clf.fit(X_train, y_train)\n",
        "print('在測試數據集上的預測準確率: {:.2f}'.format(rf_clf.score(X_test,y_test)))\n",
        "print(rf_clf.score(X_test,y_test))\n",
        "print (\"\\n\\n ---隨機森林---\")"
      ],
      "metadata": {
        "id": "38U69OdVJZM5",
        "colab": {
          "base_uri": "https://localhost:8080/"
        },
        "outputId": "bf544b30-4754-4d57-98e7-51254550b432"
      },
      "execution_count": null,
      "outputs": [
        {
          "output_type": "stream",
          "name": "stdout",
          "text": [
            "在測試數據集上的預測準確率: 0.95\n",
            "0.952456924058711\n",
            "\n",
            "\n",
            " ---隨機森林---\n"
          ]
        }
      ]
    },
    {
      "cell_type": "code",
      "source": [
        "tree_clf = DecisionTreeClassifier(random_state=100, criterion=\"gini\",max_depth=50,min_samples_leaf=5,splitter='best')\n",
        "tree_clf.fit(X_train, y_train)\n",
        "print('在測試數據集上的預測準確率: {:.2f}'.format(tree_clf.score(X_test,y_test)))\n",
        "print(tree_clf.score(X_test,y_test))\n",
        "print (\"\\n\\n ---決策樹---\")"
      ],
      "metadata": {
        "id": "L8f_UcHbJbYP",
        "colab": {
          "base_uri": "https://localhost:8080/"
        },
        "outputId": "2ea543c1-d537-4891-ae86-0162bf5a2654"
      },
      "execution_count": null,
      "outputs": [
        {
          "output_type": "stream",
          "name": "stdout",
          "text": [
            "在測試數據集上的預測準確率: 0.96\n",
            "0.9569240587109126\n",
            "\n",
            "\n",
            " ---決策樹---\n"
          ]
        }
      ]
    },
    {
      "cell_type": "code",
      "source": [
        "gbm = lgb.LGBMClassifier(objective = 'multiclass',num_class=9,learning_rate = 0.05,n_estimators = 100,random_state=0)\n",
        "gbm.fit(X_train, y_train)\n",
        "print('在測試數據集上的預測準確率: {:.2f}'.format(gbm.score(X_test,y_test)))\n",
        "print(gbm.score(X_test,y_test))\n",
        "print (\"\\n\\n ---lightgbm---\")"
      ],
      "metadata": {
        "id": "W97vtAQMJdCG",
        "colab": {
          "base_uri": "https://localhost:8080/"
        },
        "outputId": "adb31f90-d13f-4e51-e181-7c6dc51b1ba2"
      },
      "execution_count": null,
      "outputs": [
        {
          "output_type": "stream",
          "name": "stdout",
          "text": [
            "在測試數據集上的預測準確率: 0.75\n",
            "0.7472878111040204\n",
            "\n",
            "\n",
            " ---lightgbm---\n"
          ]
        }
      ]
    },
    {
      "cell_type": "markdown",
      "source": [
        "# 更改rgb值"
      ],
      "metadata": {
        "id": "S4ouEpSpJ2Yq"
      }
    },
    {
      "cell_type": "code",
      "source": [
        "df3 = df2"
      ],
      "metadata": {
        "id": "GvYOO3TWJeqb"
      },
      "execution_count": null,
      "outputs": []
    },
    {
      "cell_type": "code",
      "source": [
        "df3 = df2\n",
        "rgb_color1_r_lsit = []\n",
        "rgb_color1_g_list = []\n",
        "rgb_color1_b_list = []\n",
        "rgb_color2_r_list = []\n",
        "rgb_color2_g_list = []\n",
        "rgb_color2_b_list = []\n",
        "rgb_color3_r_list = []\n",
        "rgb_color3_g_list = []\n",
        "rgb_color3_b_list = []\n",
        "\n",
        "rgb_color1_r = df2['rgb_color1_r'].astype(str)\n",
        "for i in rgb_color1_r:\n",
        "  all_number = i.split('.')\n",
        "  integer = all_number[0]\n",
        "  decimal = all_number[1][:2]\n",
        "  com_mix = str(integer)+'.'+str(decimal)\n",
        "  rgb_color1_r_lsit.append(com_mix)\n",
        "\n",
        "rgb_color1_g = df2['rgb_color1_g'].astype(str)\n",
        "for i in rgb_color1_g:\n",
        "  all_number = i.split('.')\n",
        "  integer = all_number[0]\n",
        "  decimal = all_number[1][:2]\n",
        "  com_mix = str(integer)+'.'+str(decimal)\n",
        "  rgb_color1_g_list.append(com_mix)\n",
        "\n",
        "rgb_color1_b = df2['rgb_color1_b'].astype(str)\n",
        "for i in rgb_color1_b:\n",
        "  all_number = i.split('.')\n",
        "  integer = all_number[0]\n",
        "  decimal = all_number[1][:2]\n",
        "  com_mix = str(integer)+'.'+str(decimal)\n",
        "  rgb_color1_b_list.append(com_mix)\n",
        "\n",
        "rgb_color2_r = df2['rgb_color2_r'].astype(str)\n",
        "for i in rgb_color2_r:\n",
        "  all_number = i.split('.')\n",
        "  integer = all_number[0]\n",
        "  decimal = all_number[1][:2]\n",
        "  com_mix = str(integer)+'.'+str(decimal)\n",
        "  rgb_color2_r_list.append(com_mix)\n",
        "\n",
        "rgb_color2_g = df2['rgb_color2_g'].astype(str)\n",
        "for i in rgb_color2_g:\n",
        "  all_number = i.split('.')\n",
        "  integer = all_number[0]\n",
        "  decimal = all_number[1][:2]\n",
        "  com_mix = str(integer)+'.'+str(decimal)\n",
        "  rgb_color2_g_list.append(com_mix)\n",
        "\n",
        "rgb_color2_b = df2['rgb_color2_b'].astype(str)\n",
        "for i in rgb_color2_b:\n",
        "  all_number = i.split('.')\n",
        "  integer = all_number[0]\n",
        "  decimal = all_number[1][:2]\n",
        "  com_mix = str(integer)+'.'+str(decimal)\n",
        "  rgb_color2_b_list.append(com_mix)\n",
        "\n",
        "rgb_color3_r = df2['rgb_color3_r'].astype(str)\n",
        "for i in rgb_color3_r:\n",
        "  all_number = i.split('.')\n",
        "  integer = all_number[0]\n",
        "  decimal = all_number[1][:2]\n",
        "  com_mix = str(integer)+'.'+str(decimal)\n",
        "  rgb_color3_r_list.append(com_mix)\n",
        "\n",
        "rgb_color3_g = df2['rgb_color3_g'].astype(str)\n",
        "for i in rgb_color3_g:\n",
        "  all_number = i.split('.')\n",
        "  integer = all_number[0]\n",
        "  decimal = all_number[1][:2]\n",
        "  com_mix = str(integer)+'.'+str(decimal)\n",
        "  rgb_color3_g_list.append(com_mix)\n",
        "\n",
        "rgb_color3_b = df2['rgb_color3_b'].astype(str)\n",
        "for i in rgb_color3_b:\n",
        "  all_number = i.split('.')\n",
        "  integer = all_number[0]\n",
        "  decimal = all_number[1][:2]\n",
        "  com_mix = str(integer)+'.'+str(decimal)\n",
        "  rgb_color3_b_list.append(com_mix)"
      ],
      "metadata": {
        "id": "ltA63ZJ7J5k3"
      },
      "execution_count": null,
      "outputs": []
    },
    {
      "cell_type": "code",
      "source": [
        "df3 =df2.drop(['rgb_color1_r','rgb_color1_g','rgb_color1_b','rgb_color2_r','rgb_color2_g','rgb_color2_b','rgb_color3_r','rgb_color3_g','rgb_color3_b'], axis=1)"
      ],
      "metadata": {
        "id": "c6wr1ezkJ8Yt"
      },
      "execution_count": null,
      "outputs": []
    },
    {
      "cell_type": "code",
      "source": [
        "df3['rgb_color1_r']=rgb_color1_r_lsit\n",
        "df3['rgb_color1_g']=rgb_color1_g_list\n",
        "df3['rgb_color1_b']=rgb_color1_b_list\n",
        "df3['rgb_color2_r']=rgb_color2_r_list\n",
        "df3['rgb_color2_g']=rgb_color2_g_list\n",
        "df3['rgb_color2_b']=rgb_color2_b_list\n",
        "df3['rgb_color3_r']=rgb_color3_r_list\n",
        "df3['rgb_color3_g']=rgb_color3_g_list\n",
        "df3['rgb_color3_b']=rgb_color3_b_list"
      ],
      "metadata": {
        "id": "DQCUmdtPJ-rC"
      },
      "execution_count": null,
      "outputs": []
    },
    {
      "cell_type": "code",
      "source": [
        "df3['rgb_color1_r']=df3['rgb_color1_r'].astype(float)\n",
        "df3['rgb_color1_g']=df3['rgb_color1_g'].astype(float)\n",
        "df3['rgb_color1_b']=df3['rgb_color1_b'].astype(float)\n",
        "df3['rgb_color2_r']=df3['rgb_color2_r'].astype(float)\n",
        "df3['rgb_color2_g']=df3['rgb_color2_g'].astype(float)\n",
        "df3['rgb_color2_b']=df3['rgb_color2_b'].astype(float)\n",
        "df3['rgb_color3_r']=df3['rgb_color3_r'].astype(float)\n",
        "df3['rgb_color3_g']=df3['rgb_color3_g'].astype(float)\n",
        "df3['rgb_color3_b']=df3['rgb_color3_b'].astype(float)"
      ],
      "metadata": {
        "id": "hi9eZUInKA2l"
      },
      "execution_count": null,
      "outputs": []
    },
    {
      "cell_type": "code",
      "source": [
        "df3"
      ],
      "metadata": {
        "colab": {
          "base_uri": "https://localhost:8080/",
          "height": 782
        },
        "id": "NcY_zWvKfFto",
        "outputId": "27f134ce-c86f-4fa6-bd38-71d2d36ae568"
      },
      "execution_count": null,
      "outputs": [
        {
          "output_type": "execute_result",
          "data": {
            "text/plain": [
              "        星級      評論  行政區 hsv_color1 hsv_color2 hsv_color3  rgb_color1_r  \\\n",
              "0      4.5   663.0   中區         黑色         黃色         橙色        138.01   \n",
              "1      4.1  2582.0   中區         灰色         橙色         橙色         32.55   \n",
              "2      4.1   789.0   中區         橙色         黑色         橙色         37.03   \n",
              "3      4.1   789.0   中區         橙色         橙色         橙色        200.02   \n",
              "4      4.1   789.0   中區         黑色         灰色         黑色        215.02   \n",
              "...    ...     ...  ...        ...        ...        ...           ...   \n",
              "10441  4.7  2863.0  西屯區         橙色         橙色         黑色        187.72   \n",
              "10442  4.7  2863.0  西屯區         橙色         橙色         橙色        130.97   \n",
              "10443  4.7  2863.0  西屯區         橙色         黑色         橙色         81.75   \n",
              "10444  4.7  2863.0  西屯區         橙色         橙色         灰色        227.33   \n",
              "10445  4.7  2863.0  西屯區         橙色         橙色         黑色        200.75   \n",
              "\n",
              "       rgb_color1_g  rgb_color1_b  rgb_color2_r  rgb_color2_g  rgb_color2_b  \\\n",
              "0            119.11        102.89        188.25        177.90        172.01   \n",
              "1             31.14         28.14        181.14        178.08        168.29   \n",
              "2             40.86         28.80        219.81        208.36        193.72   \n",
              "3            187.85        172.42         38.53         29.41         21.64   \n",
              "4            200.57        172.37         49.13         36.16         27.02   \n",
              "...             ...           ...           ...           ...           ...   \n",
              "10441        190.12        187.00         51.57         49.87         51.62   \n",
              "10442        124.25        106.26         54.57         42.77         23.96   \n",
              "10443         46.00         14.41        215.23        191.68        176.46   \n",
              "10444        217.65        189.31         84.17         33.38         18.47   \n",
              "10445        184.75        164.12        104.23         52.38         19.98   \n",
              "\n",
              "       rgb_color3_r  rgb_color3_g  rgb_color3_b  \n",
              "0             41.58         32.90         30.81  \n",
              "1            104.82         90.09         76.53  \n",
              "2            172.28        147.77         89.23  \n",
              "3            137.73        105.86         64.36  \n",
              "4            137.53        115.76         82.34  \n",
              "...             ...           ...           ...  \n",
              "10441        137.08        123.07         98.35  \n",
              "10442        170.31        191.40        206.08  \n",
              "10443        156.34        121.51         55.33  \n",
              "10444        190.91        130.69         51.46  \n",
              "10445        180.32        117.21         40.89  \n",
              "\n",
              "[10446 rows x 15 columns]"
            ],
            "text/html": [
              "\n",
              "  <div id=\"df-757d3fea-ebe4-4a94-94e0-9e2898cf38c3\">\n",
              "    <div class=\"colab-df-container\">\n",
              "      <div>\n",
              "<style scoped>\n",
              "    .dataframe tbody tr th:only-of-type {\n",
              "        vertical-align: middle;\n",
              "    }\n",
              "\n",
              "    .dataframe tbody tr th {\n",
              "        vertical-align: top;\n",
              "    }\n",
              "\n",
              "    .dataframe thead th {\n",
              "        text-align: right;\n",
              "    }\n",
              "</style>\n",
              "<table border=\"1\" class=\"dataframe\">\n",
              "  <thead>\n",
              "    <tr style=\"text-align: right;\">\n",
              "      <th></th>\n",
              "      <th>星級</th>\n",
              "      <th>評論</th>\n",
              "      <th>行政區</th>\n",
              "      <th>hsv_color1</th>\n",
              "      <th>hsv_color2</th>\n",
              "      <th>hsv_color3</th>\n",
              "      <th>rgb_color1_r</th>\n",
              "      <th>rgb_color1_g</th>\n",
              "      <th>rgb_color1_b</th>\n",
              "      <th>rgb_color2_r</th>\n",
              "      <th>rgb_color2_g</th>\n",
              "      <th>rgb_color2_b</th>\n",
              "      <th>rgb_color3_r</th>\n",
              "      <th>rgb_color3_g</th>\n",
              "      <th>rgb_color3_b</th>\n",
              "    </tr>\n",
              "  </thead>\n",
              "  <tbody>\n",
              "    <tr>\n",
              "      <th>0</th>\n",
              "      <td>4.5</td>\n",
              "      <td>663.0</td>\n",
              "      <td>中區</td>\n",
              "      <td>黑色</td>\n",
              "      <td>黃色</td>\n",
              "      <td>橙色</td>\n",
              "      <td>138.01</td>\n",
              "      <td>119.11</td>\n",
              "      <td>102.89</td>\n",
              "      <td>188.25</td>\n",
              "      <td>177.90</td>\n",
              "      <td>172.01</td>\n",
              "      <td>41.58</td>\n",
              "      <td>32.90</td>\n",
              "      <td>30.81</td>\n",
              "    </tr>\n",
              "    <tr>\n",
              "      <th>1</th>\n",
              "      <td>4.1</td>\n",
              "      <td>2582.0</td>\n",
              "      <td>中區</td>\n",
              "      <td>灰色</td>\n",
              "      <td>橙色</td>\n",
              "      <td>橙色</td>\n",
              "      <td>32.55</td>\n",
              "      <td>31.14</td>\n",
              "      <td>28.14</td>\n",
              "      <td>181.14</td>\n",
              "      <td>178.08</td>\n",
              "      <td>168.29</td>\n",
              "      <td>104.82</td>\n",
              "      <td>90.09</td>\n",
              "      <td>76.53</td>\n",
              "    </tr>\n",
              "    <tr>\n",
              "      <th>2</th>\n",
              "      <td>4.1</td>\n",
              "      <td>789.0</td>\n",
              "      <td>中區</td>\n",
              "      <td>橙色</td>\n",
              "      <td>黑色</td>\n",
              "      <td>橙色</td>\n",
              "      <td>37.03</td>\n",
              "      <td>40.86</td>\n",
              "      <td>28.80</td>\n",
              "      <td>219.81</td>\n",
              "      <td>208.36</td>\n",
              "      <td>193.72</td>\n",
              "      <td>172.28</td>\n",
              "      <td>147.77</td>\n",
              "      <td>89.23</td>\n",
              "    </tr>\n",
              "    <tr>\n",
              "      <th>3</th>\n",
              "      <td>4.1</td>\n",
              "      <td>789.0</td>\n",
              "      <td>中區</td>\n",
              "      <td>橙色</td>\n",
              "      <td>橙色</td>\n",
              "      <td>橙色</td>\n",
              "      <td>200.02</td>\n",
              "      <td>187.85</td>\n",
              "      <td>172.42</td>\n",
              "      <td>38.53</td>\n",
              "      <td>29.41</td>\n",
              "      <td>21.64</td>\n",
              "      <td>137.73</td>\n",
              "      <td>105.86</td>\n",
              "      <td>64.36</td>\n",
              "    </tr>\n",
              "    <tr>\n",
              "      <th>4</th>\n",
              "      <td>4.1</td>\n",
              "      <td>789.0</td>\n",
              "      <td>中區</td>\n",
              "      <td>黑色</td>\n",
              "      <td>灰色</td>\n",
              "      <td>黑色</td>\n",
              "      <td>215.02</td>\n",
              "      <td>200.57</td>\n",
              "      <td>172.37</td>\n",
              "      <td>49.13</td>\n",
              "      <td>36.16</td>\n",
              "      <td>27.02</td>\n",
              "      <td>137.53</td>\n",
              "      <td>115.76</td>\n",
              "      <td>82.34</td>\n",
              "    </tr>\n",
              "    <tr>\n",
              "      <th>...</th>\n",
              "      <td>...</td>\n",
              "      <td>...</td>\n",
              "      <td>...</td>\n",
              "      <td>...</td>\n",
              "      <td>...</td>\n",
              "      <td>...</td>\n",
              "      <td>...</td>\n",
              "      <td>...</td>\n",
              "      <td>...</td>\n",
              "      <td>...</td>\n",
              "      <td>...</td>\n",
              "      <td>...</td>\n",
              "      <td>...</td>\n",
              "      <td>...</td>\n",
              "      <td>...</td>\n",
              "    </tr>\n",
              "    <tr>\n",
              "      <th>10441</th>\n",
              "      <td>4.7</td>\n",
              "      <td>2863.0</td>\n",
              "      <td>西屯區</td>\n",
              "      <td>橙色</td>\n",
              "      <td>橙色</td>\n",
              "      <td>黑色</td>\n",
              "      <td>187.72</td>\n",
              "      <td>190.12</td>\n",
              "      <td>187.00</td>\n",
              "      <td>51.57</td>\n",
              "      <td>49.87</td>\n",
              "      <td>51.62</td>\n",
              "      <td>137.08</td>\n",
              "      <td>123.07</td>\n",
              "      <td>98.35</td>\n",
              "    </tr>\n",
              "    <tr>\n",
              "      <th>10442</th>\n",
              "      <td>4.7</td>\n",
              "      <td>2863.0</td>\n",
              "      <td>西屯區</td>\n",
              "      <td>橙色</td>\n",
              "      <td>橙色</td>\n",
              "      <td>橙色</td>\n",
              "      <td>130.97</td>\n",
              "      <td>124.25</td>\n",
              "      <td>106.26</td>\n",
              "      <td>54.57</td>\n",
              "      <td>42.77</td>\n",
              "      <td>23.96</td>\n",
              "      <td>170.31</td>\n",
              "      <td>191.40</td>\n",
              "      <td>206.08</td>\n",
              "    </tr>\n",
              "    <tr>\n",
              "      <th>10443</th>\n",
              "      <td>4.7</td>\n",
              "      <td>2863.0</td>\n",
              "      <td>西屯區</td>\n",
              "      <td>橙色</td>\n",
              "      <td>黑色</td>\n",
              "      <td>橙色</td>\n",
              "      <td>81.75</td>\n",
              "      <td>46.00</td>\n",
              "      <td>14.41</td>\n",
              "      <td>215.23</td>\n",
              "      <td>191.68</td>\n",
              "      <td>176.46</td>\n",
              "      <td>156.34</td>\n",
              "      <td>121.51</td>\n",
              "      <td>55.33</td>\n",
              "    </tr>\n",
              "    <tr>\n",
              "      <th>10444</th>\n",
              "      <td>4.7</td>\n",
              "      <td>2863.0</td>\n",
              "      <td>西屯區</td>\n",
              "      <td>橙色</td>\n",
              "      <td>橙色</td>\n",
              "      <td>灰色</td>\n",
              "      <td>227.33</td>\n",
              "      <td>217.65</td>\n",
              "      <td>189.31</td>\n",
              "      <td>84.17</td>\n",
              "      <td>33.38</td>\n",
              "      <td>18.47</td>\n",
              "      <td>190.91</td>\n",
              "      <td>130.69</td>\n",
              "      <td>51.46</td>\n",
              "    </tr>\n",
              "    <tr>\n",
              "      <th>10445</th>\n",
              "      <td>4.7</td>\n",
              "      <td>2863.0</td>\n",
              "      <td>西屯區</td>\n",
              "      <td>橙色</td>\n",
              "      <td>橙色</td>\n",
              "      <td>黑色</td>\n",
              "      <td>200.75</td>\n",
              "      <td>184.75</td>\n",
              "      <td>164.12</td>\n",
              "      <td>104.23</td>\n",
              "      <td>52.38</td>\n",
              "      <td>19.98</td>\n",
              "      <td>180.32</td>\n",
              "      <td>117.21</td>\n",
              "      <td>40.89</td>\n",
              "    </tr>\n",
              "  </tbody>\n",
              "</table>\n",
              "<p>10446 rows × 15 columns</p>\n",
              "</div>\n",
              "      <button class=\"colab-df-convert\" onclick=\"convertToInteractive('df-757d3fea-ebe4-4a94-94e0-9e2898cf38c3')\"\n",
              "              title=\"Convert this dataframe to an interactive table.\"\n",
              "              style=\"display:none;\">\n",
              "        \n",
              "  <svg xmlns=\"http://www.w3.org/2000/svg\" height=\"24px\"viewBox=\"0 0 24 24\"\n",
              "       width=\"24px\">\n",
              "    <path d=\"M0 0h24v24H0V0z\" fill=\"none\"/>\n",
              "    <path d=\"M18.56 5.44l.94 2.06.94-2.06 2.06-.94-2.06-.94-.94-2.06-.94 2.06-2.06.94zm-11 1L8.5 8.5l.94-2.06 2.06-.94-2.06-.94L8.5 2.5l-.94 2.06-2.06.94zm10 10l.94 2.06.94-2.06 2.06-.94-2.06-.94-.94-2.06-.94 2.06-2.06.94z\"/><path d=\"M17.41 7.96l-1.37-1.37c-.4-.4-.92-.59-1.43-.59-.52 0-1.04.2-1.43.59L10.3 9.45l-7.72 7.72c-.78.78-.78 2.05 0 2.83L4 21.41c.39.39.9.59 1.41.59.51 0 1.02-.2 1.41-.59l7.78-7.78 2.81-2.81c.8-.78.8-2.07 0-2.86zM5.41 20L4 18.59l7.72-7.72 1.47 1.35L5.41 20z\"/>\n",
              "  </svg>\n",
              "      </button>\n",
              "      \n",
              "  <style>\n",
              "    .colab-df-container {\n",
              "      display:flex;\n",
              "      flex-wrap:wrap;\n",
              "      gap: 12px;\n",
              "    }\n",
              "\n",
              "    .colab-df-convert {\n",
              "      background-color: #E8F0FE;\n",
              "      border: none;\n",
              "      border-radius: 50%;\n",
              "      cursor: pointer;\n",
              "      display: none;\n",
              "      fill: #1967D2;\n",
              "      height: 32px;\n",
              "      padding: 0 0 0 0;\n",
              "      width: 32px;\n",
              "    }\n",
              "\n",
              "    .colab-df-convert:hover {\n",
              "      background-color: #E2EBFA;\n",
              "      box-shadow: 0px 1px 2px rgba(60, 64, 67, 0.3), 0px 1px 3px 1px rgba(60, 64, 67, 0.15);\n",
              "      fill: #174EA6;\n",
              "    }\n",
              "\n",
              "    [theme=dark] .colab-df-convert {\n",
              "      background-color: #3B4455;\n",
              "      fill: #D2E3FC;\n",
              "    }\n",
              "\n",
              "    [theme=dark] .colab-df-convert:hover {\n",
              "      background-color: #434B5C;\n",
              "      box-shadow: 0px 1px 3px 1px rgba(0, 0, 0, 0.15);\n",
              "      filter: drop-shadow(0px 1px 2px rgba(0, 0, 0, 0.3));\n",
              "      fill: #FFFFFF;\n",
              "    }\n",
              "  </style>\n",
              "\n",
              "      <script>\n",
              "        const buttonEl =\n",
              "          document.querySelector('#df-757d3fea-ebe4-4a94-94e0-9e2898cf38c3 button.colab-df-convert');\n",
              "        buttonEl.style.display =\n",
              "          google.colab.kernel.accessAllowed ? 'block' : 'none';\n",
              "\n",
              "        async function convertToInteractive(key) {\n",
              "          const element = document.querySelector('#df-757d3fea-ebe4-4a94-94e0-9e2898cf38c3');\n",
              "          const dataTable =\n",
              "            await google.colab.kernel.invokeFunction('convertToInteractive',\n",
              "                                                     [key], {});\n",
              "          if (!dataTable) return;\n",
              "\n",
              "          const docLinkHtml = 'Like what you see? Visit the ' +\n",
              "            '<a target=\"_blank\" href=https://colab.research.google.com/notebooks/data_table.ipynb>data table notebook</a>'\n",
              "            + ' to learn more about interactive tables.';\n",
              "          element.innerHTML = '';\n",
              "          dataTable['output_type'] = 'display_data';\n",
              "          await google.colab.output.renderOutput(dataTable, element);\n",
              "          const docLink = document.createElement('div');\n",
              "          docLink.innerHTML = docLinkHtml;\n",
              "          element.appendChild(docLink);\n",
              "        }\n",
              "      </script>\n",
              "    </div>\n",
              "  </div>\n",
              "  "
            ]
          },
          "metadata": {},
          "execution_count": 30
        }
      ]
    },
    {
      "cell_type": "code",
      "source": [
        "df3.to_csv('/content/drive/MyDrive/paper/code/original_data/data.csv',index=False,encoding='utf-8-sig')"
      ],
      "metadata": {
        "id": "K3KV6BtvfKRW"
      },
      "execution_count": null,
      "outputs": []
    },
    {
      "cell_type": "code",
      "source": [
        "df3.rename(columns={'評論': 'Comment','行政區':'Administrative_area'}, inplace=True)"
      ],
      "metadata": {
        "id": "9W08kGTfKDV7"
      },
      "execution_count": null,
      "outputs": []
    },
    {
      "cell_type": "code",
      "source": [
        "data1 = df3.drop([\"星級\"], axis=1) #剔除 y\n",
        "X = data1 \n",
        "y = df3.星級 #選擇 y"
      ],
      "metadata": {
        "id": "SCxyFKGKKF_G"
      },
      "execution_count": null,
      "outputs": []
    },
    {
      "cell_type": "code",
      "source": [
        "X_train, X_test, y_train, y_test = train_test_split(X, y, test_size=0.3, random_state=0)"
      ],
      "metadata": {
        "id": "CiZ6_oX8KHt_"
      },
      "execution_count": null,
      "outputs": []
    },
    {
      "cell_type": "code",
      "source": [
        "lg = LogisticRegression(C=1.0, tol=1e-6, multi_class='multinomial', solver='newton-cg')\n",
        "lg.fit(X_train,y_train)\n",
        "print('在測試數據集上的預測準確率: {:.2f}'.format(lg.score(X_test, y_test)))\n",
        "print(lg.score(X_test, y_test))\n",
        "print (\"\\n\\n ---邏輯回歸---\")"
      ],
      "metadata": {
        "id": "3HtHSEr6KLKd",
        "colab": {
          "base_uri": "https://localhost:8080/"
        },
        "outputId": "a54b2683-cf11-4105-a6a4-bbcc47981333"
      },
      "execution_count": null,
      "outputs": [
        {
          "output_type": "stream",
          "name": "stdout",
          "text": [
            "在測試數據集上的預測準確率: 0.21\n",
            "0.20931716656030633\n",
            "\n",
            "\n",
            " ---邏輯回歸---\n"
          ]
        },
        {
          "output_type": "stream",
          "name": "stderr",
          "text": [
            "/usr/local/lib/python3.7/dist-packages/sklearn/utils/optimize.py:212: ConvergenceWarning: newton-cg failed to converge. Increase the number of iterations.\n",
            "  ConvergenceWarning,\n"
          ]
        }
      ]
    },
    {
      "cell_type": "code",
      "source": [
        "xgb = XGBClassifier(\n",
        "    #深度\n",
        "    max_depth=3, \n",
        "    #疊帶次數\n",
        "    n_estimators=200,\n",
        "    #學習數率\n",
        "    learn_rate =0.001,\n",
        "    objective = 'multi:softmax',\n",
        "    num_class=9)\n",
        "xgb.fit(X_train,y_train)\n",
        "print('在測試數據集上的預測準確率: {:.2f}'.format(xgb.score(X_test,y_test)))\n",
        "print(xgb.score(X_test, y_test))\n",
        "print (\"\\n\\n ---xgboost---\")"
      ],
      "metadata": {
        "id": "11lqhLAbKOfb",
        "colab": {
          "base_uri": "https://localhost:8080/"
        },
        "outputId": "5a0de13a-d5cb-4199-ff7d-0a16d9c4906a"
      },
      "execution_count": null,
      "outputs": [
        {
          "output_type": "stream",
          "name": "stdout",
          "text": [
            "在測試數據集上的預測準確率: 0.62\n",
            "0.6228462029355456\n",
            "\n",
            "\n",
            " ---xgboost---\n"
          ]
        }
      ]
    },
    {
      "cell_type": "code",
      "source": [
        "rf_clf = RandomForestClassifier(n_estimators=1000, random_state=42)\n",
        "rf_clf.fit(X_train, y_train)\n",
        "print('在測試數據集上的預測準確率: {:.2f}'.format(rf_clf.score(X_test,y_test)))\n",
        "print(rf_clf.score(X_test, y_test))\n",
        "print (\"\\n\\n ---隨機森林---\")"
      ],
      "metadata": {
        "id": "WiS7y5r6KT_5",
        "colab": {
          "base_uri": "https://localhost:8080/"
        },
        "outputId": "9aea3425-abc4-40e0-c042-dafc0603db5b"
      },
      "execution_count": null,
      "outputs": [
        {
          "output_type": "stream",
          "name": "stdout",
          "text": [
            "在測試數據集上的預測準確率: 0.40\n",
            "0.3959795788130185\n",
            "\n",
            "\n",
            " ---隨機森林---\n"
          ]
        }
      ]
    },
    {
      "cell_type": "code",
      "source": [
        "tree_clf = DecisionTreeClassifier(random_state=100)\n",
        "tree_clf.fit(X_train, y_train)\n",
        "print('在測試數據集上的預測準確率: {:.2f}'.format(tree_clf.score(X_test,y_test)))\n",
        "print(tree_clf.score(X_test, y_test))\n",
        "print (\"\\n\\n ---決策樹---\")"
      ],
      "metadata": {
        "id": "Ufdcc9kmKVwi",
        "colab": {
          "base_uri": "https://localhost:8080/"
        },
        "outputId": "92c112a8-b4fd-4f38-a273-d73c4d8fee9a"
      },
      "execution_count": null,
      "outputs": [
        {
          "output_type": "stream",
          "name": "stdout",
          "text": [
            "在測試數據集上的預測準確率: 0.96\n",
            "0.9575622208040843\n",
            "\n",
            "\n",
            " ---決策樹---\n"
          ]
        }
      ]
    },
    {
      "cell_type": "code",
      "source": [
        "gbm = lgb.LGBMClassifier(objective = 'multiclass',num_class=9,learning_rate = 0.05,n_estimators = 100,random_state=0)\n",
        "gbm.fit(X_train, y_train)\n",
        "print(gbm.score(X_test, y_test))\n",
        "print('在測試數據集上的預測準確率: {:.2f}'.format(gbm.score(X_test,y_test)))"
      ],
      "metadata": {
        "id": "5h4D4KluKXJf",
        "colab": {
          "base_uri": "https://localhost:8080/"
        },
        "outputId": "76cbbbe7-69a4-49f4-b1df-f9d5caae7aec"
      },
      "execution_count": null,
      "outputs": [
        {
          "output_type": "stream",
          "name": "stdout",
          "text": [
            "0.7492022973835354\n",
            "在測試數據集上的預測準確率: 0.75\n"
          ]
        }
      ]
    },
    {
      "cell_type": "markdown",
      "source": [
        "# 查看重要因子"
      ],
      "metadata": {
        "id": "66pGgwPHKZNP"
      }
    },
    {
      "cell_type": "code",
      "source": [
        "coef_c1 = pd.DataFrame({'var' : pd.Series(X_test.columns),\n",
        "                        'coef_abs' : abs(pd.Series(lg.coef_[3].flatten()))\n",
        "                        })\n",
        "coef_c1 = coef_c1.sort_values(by = 'coef_abs',ascending=False)\n",
        "print(coef_c1)\n",
        "# print(type(coef_c1))\n",
        "# coef_c1.to_csv('123.csv')"
      ],
      "metadata": {
        "id": "G4N6xG1TKdMe",
        "colab": {
          "base_uri": "https://localhost:8080/"
        },
        "outputId": "93d27c34-7600-47fe-983f-e3a09ef1df43"
      },
      "execution_count": null,
      "outputs": [
        {
          "output_type": "stream",
          "name": "stdout",
          "text": [
            "                    var  coef_abs\n",
            "1   Administrative_area  0.017992\n",
            "3            hsv_color2  0.005885\n",
            "9          rgb_color2_g  0.005395\n",
            "4            hsv_color3  0.005042\n",
            "13         rgb_color3_b  0.003296\n",
            "6          rgb_color1_g  0.003078\n",
            "12         rgb_color3_g  0.002971\n",
            "10         rgb_color2_b  0.002716\n",
            "7          rgb_color1_b  0.002458\n",
            "11         rgb_color3_r  0.002182\n",
            "8          rgb_color2_r  0.001733\n",
            "2            hsv_color1  0.001277\n",
            "5          rgb_color1_r  0.000944\n",
            "0               Comment  0.000089\n"
          ]
        }
      ]
    },
    {
      "cell_type": "code",
      "source": [
        "from xgboost import plot_importance\n",
        "from matplotlib import pyplot\n",
        "plt.rcParams['font.sans-serif']=['SimHei']\n",
        "plt.rcParams['axes.unicode_minus'] = False\n",
        "plt.rcParams['figure.autolayout'] = True\n",
        "plot_importance(xgb)\n",
        "pyplot.show()"
      ],
      "metadata": {
        "id": "btqI7QvpKgBw",
        "colab": {
          "base_uri": "https://localhost:8080/",
          "height": 334
        },
        "outputId": "31d08478-28a6-4b01-9e9d-0e58d1fc2e43"
      },
      "execution_count": null,
      "outputs": [
        {
          "output_type": "stream",
          "name": "stderr",
          "text": [
            "findfont: Font family ['sans-serif'] not found. Falling back to DejaVu Sans.\n",
            "findfont: Font family ['sans-serif'] not found. Falling back to DejaVu Sans.\n"
          ]
        },
        {
          "output_type": "display_data",
          "data": {
            "text/plain": [
              "<Figure size 432x288 with 1 Axes>"
            ],
            "image/png": "[encoded data removed]"
          },
          "metadata": {
            "needs_background": "light"
          }
        }
      ]
    },
    {
      "cell_type": "code",
      "source": [
        "feat_labels = df3.columns[1:]"
      ],
      "metadata": {
        "id": "LL5Lt_5-KoSb"
      },
      "execution_count": null,
      "outputs": []
    },
    {
      "cell_type": "code",
      "source": [
        "importances = rf_clf.feature_importances_\n",
        "indices = np.argsort(importances)[::-1]\n",
        "for f in range(X_train.shape[1]):\n",
        "    print(\"%2d) %-*s %f\" % (f + 1, 30, feat_labels[indices[f]], importances[indices[f]]))"
      ],
      "metadata": {
        "id": "Ho9mMDSlKhpb",
        "colab": {
          "base_uri": "https://localhost:8080/"
        },
        "outputId": "f96a3283-0dd5-4351-ea58-8b52a572fbf4"
      },
      "execution_count": null,
      "outputs": [
        {
          "output_type": "stream",
          "name": "stdout",
          "text": [
            " 1) Comment                        0.146621\n",
            " 2) rgb_color1_b                   0.077618\n",
            " 3) rgb_color2_b                   0.077008\n",
            " 4) rgb_color3_b                   0.076748\n",
            " 5) rgb_color2_r                   0.076584\n",
            " 6) rgb_color1_r                   0.076383\n",
            " 7) rgb_color3_r                   0.076347\n",
            " 8) rgb_color3_g                   0.075736\n",
            " 9) rgb_color1_g                   0.075108\n",
            "10) rgb_color2_g                   0.074872\n",
            "11) Administrative_area            0.074213\n",
            "12) hsv_color3                     0.031407\n",
            "13) hsv_color2                     0.031286\n",
            "14) hsv_color1                     0.030070\n"
          ]
        }
      ]
    },
    {
      "cell_type": "code",
      "source": [
        "importances = tree_clf.feature_importances_\n",
        "indices = np.argsort(importances)[::-1]\n",
        "for f in range(X_train.shape[1]):\n",
        "    print(\"%2d) %-*s %f\" % (f + 1, 30, feat_labels[indices[f]], importances[indices[f]]))"
      ],
      "metadata": {
        "id": "ZmYhEjcfKlJH",
        "colab": {
          "base_uri": "https://localhost:8080/"
        },
        "outputId": "94bcebe4-67da-40ae-a2f1-d2870247f854"
      },
      "execution_count": null,
      "outputs": [
        {
          "output_type": "stream",
          "name": "stdout",
          "text": [
            " 1) Comment                        0.739797\n",
            " 2) Administrative_area            0.216953\n",
            " 3) rgb_color1_g                   0.006100\n",
            " 4) rgb_color2_r                   0.005072\n",
            " 5) rgb_color3_g                   0.004464\n",
            " 6) rgb_color2_b                   0.004286\n",
            " 7) rgb_color3_b                   0.004193\n",
            " 8) rgb_color1_r                   0.003778\n",
            " 9) rgb_color1_b                   0.003608\n",
            "10) rgb_color3_r                   0.003319\n",
            "11) hsv_color2                     0.002822\n",
            "12) hsv_color3                     0.001953\n",
            "13) hsv_color1                     0.001861\n",
            "14) rgb_color2_g                   0.001794\n"
          ]
        }
      ]
    },
    {
      "cell_type": "code",
      "source": [
        "plt.figure(figsize=(12,6))\n",
        "lgb.plot_importance(gbm, max_num_features=30)\n",
        "plt.title(\"Featurertances\")\n",
        "plt.show()"
      ],
      "metadata": {
        "id": "6Zqt8j5pKpWV",
        "colab": {
          "base_uri": "https://localhost:8080/",
          "height": 315
        },
        "outputId": "0e6e6df5-9e6c-49bf-be36-b5a5f7f76130"
      },
      "execution_count": null,
      "outputs": [
        {
          "output_type": "display_data",
          "data": {
            "text/plain": [
              "<Figure size 864x432 with 0 Axes>"
            ]
          },
          "metadata": {}
        },
        {
          "output_type": "display_data",
          "data": {
            "text/plain": [
              "<Figure size 432x288 with 1 Axes>"
            ],
            "image/png": "[encoded data removed]"
          },
          "metadata": {
            "needs_background": "light"
          }
        }
      ]
    },
    {
      "cell_type": "markdown",
      "source": [
        "# 去除評論數"
      ],
      "metadata": {
        "id": "GowowkJnDDVa"
      }
    },
    {
      "cell_type": "code",
      "source": [
        "df5 = df3"
      ],
      "metadata": {
        "id": "HEFy-WoCC860"
      },
      "execution_count": null,
      "outputs": []
    },
    {
      "cell_type": "code",
      "source": [
        "df5 = df5.drop(['Comment'], axis=1)"
      ],
      "metadata": {
        "id": "4cwrv7t4DJUR"
      },
      "execution_count": null,
      "outputs": []
    },
    {
      "cell_type": "code",
      "source": [
        "df5"
      ],
      "metadata": {
        "colab": {
          "base_uri": "https://localhost:8080/",
          "height": 423
        },
        "id": "sw9LVaSxGRou",
        "outputId": "39d2f00d-550b-4e8a-a2ae-ea95ebda7178"
      },
      "execution_count": null,
      "outputs": [
        {
          "output_type": "execute_result",
          "data": {
            "text/plain": [
              "       星級  Administrative_area  hsv_color1  hsv_color2  hsv_color3  \\\n",
              "0       5                    0           9           8           0   \n",
              "1       0                    0           1           0           0   \n",
              "2       0                    0           0           9           0   \n",
              "3       0                    0           0           0           0   \n",
              "4       0                    0           9           1           9   \n",
              "...    ..                  ...         ...         ...         ...   \n",
              "10441   7                   16           0           0           9   \n",
              "10442   7                   16           0           0           0   \n",
              "10443   7                   16           0           9           0   \n",
              "10444   7                   16           0           0           1   \n",
              "10445   7                   16           0           0           9   \n",
              "\n",
              "       rgb_color1_r  rgb_color1_g  rgb_color1_b  rgb_color2_r  rgb_color2_g  \\\n",
              "0            138.01        119.11        102.89        188.25        177.90   \n",
              "1             32.55         31.14         28.14        181.14        178.08   \n",
              "2             37.03         40.86         28.80        219.81        208.36   \n",
              "3            200.02        187.85        172.42         38.53         29.41   \n",
              "4            215.02        200.57        172.37         49.13         36.16   \n",
              "...             ...           ...           ...           ...           ...   \n",
              "10441        187.72        190.12        187.00         51.57         49.87   \n",
              "10442        130.97        124.25        106.26         54.57         42.77   \n",
              "10443         81.75         46.00         14.41        215.23        191.68   \n",
              "10444        227.33        217.65        189.31         84.17         33.38   \n",
              "10445        200.75        184.75        164.12        104.23         52.38   \n",
              "\n",
              "       rgb_color2_b  rgb_color3_r  rgb_color3_g  rgb_color3_b  \n",
              "0            172.01         41.58         32.90         30.81  \n",
              "1            168.29        104.82         90.09         76.53  \n",
              "2            193.72        172.28        147.77         89.23  \n",
              "3             21.64        137.73        105.86         64.36  \n",
              "4             27.02        137.53        115.76         82.34  \n",
              "...             ...           ...           ...           ...  \n",
              "10441         51.62        137.08        123.07         98.35  \n",
              "10442         23.96        170.31        191.40        206.08  \n",
              "10443        176.46        156.34        121.51         55.33  \n",
              "10444         18.47        190.91        130.69         51.46  \n",
              "10445         19.98        180.32        117.21         40.89  \n",
              "\n",
              "[10446 rows x 14 columns]"
            ],
            "text/html": [
              "\n",
              "  <div id=\"df-e24c8dba-9aa6-46f2-8e05-4cf34935d035\">\n",
              "    <div class=\"colab-df-container\">\n",
              "      <div>\n",
              "<style scoped>\n",
              "    .dataframe tbody tr th:only-of-type {\n",
              "        vertical-align: middle;\n",
              "    }\n",
              "\n",
              "    .dataframe tbody tr th {\n",
              "        vertical-align: top;\n",
              "    }\n",
              "\n",
              "    .dataframe thead th {\n",
              "        text-align: right;\n",
              "    }\n",
              "</style>\n",
              "<table border=\"1\" class=\"dataframe\">\n",
              "  <thead>\n",
              "    <tr style=\"text-align: right;\">\n",
              "      <th></th>\n",
              "      <th>星級</th>\n",
              "      <th>Administrative_area</th>\n",
              "      <th>hsv_color1</th>\n",
              "      <th>hsv_color2</th>\n",
              "      <th>hsv_color3</th>\n",
              "      <th>rgb_color1_r</th>\n",
              "      <th>rgb_color1_g</th>\n",
              "      <th>rgb_color1_b</th>\n",
              "      <th>rgb_color2_r</th>\n",
              "      <th>rgb_color2_g</th>\n",
              "      <th>rgb_color2_b</th>\n",
              "      <th>rgb_color3_r</th>\n",
              "      <th>rgb_color3_g</th>\n",
              "      <th>rgb_color3_b</th>\n",
              "    </tr>\n",
              "  </thead>\n",
              "  <tbody>\n",
              "    <tr>\n",
              "      <th>0</th>\n",
              "      <td>5</td>\n",
              "      <td>0</td>\n",
              "      <td>9</td>\n",
              "      <td>8</td>\n",
              "      <td>0</td>\n",
              "      <td>138.01</td>\n",
              "      <td>119.11</td>\n",
              "      <td>102.89</td>\n",
              "      <td>188.25</td>\n",
              "      <td>177.90</td>\n",
              "      <td>172.01</td>\n",
              "      <td>41.58</td>\n",
              "      <td>32.90</td>\n",
              "      <td>30.81</td>\n",
              "    </tr>\n",
              "    <tr>\n",
              "      <th>1</th>\n",
              "      <td>0</td>\n",
              "      <td>0</td>\n",
              "      <td>1</td>\n",
              "      <td>0</td>\n",
              "      <td>0</td>\n",
              "      <td>32.55</td>\n",
              "      <td>31.14</td>\n",
              "      <td>28.14</td>\n",
              "      <td>181.14</td>\n",
              "      <td>178.08</td>\n",
              "      <td>168.29</td>\n",
              "      <td>104.82</td>\n",
              "      <td>90.09</td>\n",
              "      <td>76.53</td>\n",
              "    </tr>\n",
              "    <tr>\n",
              "      <th>2</th>\n",
              "      <td>0</td>\n",
              "      <td>0</td>\n",
              "      <td>0</td>\n",
              "      <td>9</td>\n",
              "      <td>0</td>\n",
              "      <td>37.03</td>\n",
              "      <td>40.86</td>\n",
              "      <td>28.80</td>\n",
              "      <td>219.81</td>\n",
              "      <td>208.36</td>\n",
              "      <td>193.72</td>\n",
              "      <td>172.28</td>\n",
              "      <td>147.77</td>\n",
              "      <td>89.23</td>\n",
              "    </tr>\n",
              "    <tr>\n",
              "      <th>3</th>\n",
              "      <td>0</td>\n",
              "      <td>0</td>\n",
              "      <td>0</td>\n",
              "      <td>0</td>\n",
              "      <td>0</td>\n",
              "      <td>200.02</td>\n",
              "      <td>187.85</td>\n",
              "      <td>172.42</td>\n",
              "      <td>38.53</td>\n",
              "      <td>29.41</td>\n",
              "      <td>21.64</td>\n",
              "      <td>137.73</td>\n",
              "      <td>105.86</td>\n",
              "      <td>64.36</td>\n",
              "    </tr>\n",
              "    <tr>\n",
              "      <th>4</th>\n",
              "      <td>0</td>\n",
              "      <td>0</td>\n",
              "      <td>9</td>\n",
              "      <td>1</td>\n",
              "      <td>9</td>\n",
              "      <td>215.02</td>\n",
              "      <td>200.57</td>\n",
              "      <td>172.37</td>\n",
              "      <td>49.13</td>\n",
              "      <td>36.16</td>\n",
              "      <td>27.02</td>\n",
              "      <td>137.53</td>\n",
              "      <td>115.76</td>\n",
              "      <td>82.34</td>\n",
              "    </tr>\n",
              "    <tr>\n",
              "      <th>...</th>\n",
              "      <td>...</td>\n",
              "      <td>...</td>\n",
              "      <td>...</td>\n",
              "      <td>...</td>\n",
              "      <td>...</td>\n",
              "      <td>...</td>\n",
              "      <td>...</td>\n",
              "      <td>...</td>\n",
              "      <td>...</td>\n",
              "      <td>...</td>\n",
              "      <td>...</td>\n",
              "      <td>...</td>\n",
              "      <td>...</td>\n",
              "      <td>...</td>\n",
              "    </tr>\n",
              "    <tr>\n",
              "      <th>10441</th>\n",
              "      <td>7</td>\n",
              "      <td>16</td>\n",
              "      <td>0</td>\n",
              "      <td>0</td>\n",
              "      <td>9</td>\n",
              "      <td>187.72</td>\n",
              "      <td>190.12</td>\n",
              "      <td>187.00</td>\n",
              "      <td>51.57</td>\n",
              "      <td>49.87</td>\n",
              "      <td>51.62</td>\n",
              "      <td>137.08</td>\n",
              "      <td>123.07</td>\n",
              "      <td>98.35</td>\n",
              "    </tr>\n",
              "    <tr>\n",
              "      <th>10442</th>\n",
              "      <td>7</td>\n",
              "      <td>16</td>\n",
              "      <td>0</td>\n",
              "      <td>0</td>\n",
              "      <td>0</td>\n",
              "      <td>130.97</td>\n",
              "      <td>124.25</td>\n",
              "      <td>106.26</td>\n",
              "      <td>54.57</td>\n",
              "      <td>42.77</td>\n",
              "      <td>23.96</td>\n",
              "      <td>170.31</td>\n",
              "      <td>191.40</td>\n",
              "      <td>206.08</td>\n",
              "    </tr>\n",
              "    <tr>\n",
              "      <th>10443</th>\n",
              "      <td>7</td>\n",
              "      <td>16</td>\n",
              "      <td>0</td>\n",
              "      <td>9</td>\n",
              "      <td>0</td>\n",
              "      <td>81.75</td>\n",
              "      <td>46.00</td>\n",
              "      <td>14.41</td>\n",
              "      <td>215.23</td>\n",
              "      <td>191.68</td>\n",
              "      <td>176.46</td>\n",
              "      <td>156.34</td>\n",
              "      <td>121.51</td>\n",
              "      <td>55.33</td>\n",
              "    </tr>\n",
              "    <tr>\n",
              "      <th>10444</th>\n",
              "      <td>7</td>\n",
              "      <td>16</td>\n",
              "      <td>0</td>\n",
              "      <td>0</td>\n",
              "      <td>1</td>\n",
              "      <td>227.33</td>\n",
              "      <td>217.65</td>\n",
              "      <td>189.31</td>\n",
              "      <td>84.17</td>\n",
              "      <td>33.38</td>\n",
              "      <td>18.47</td>\n",
              "      <td>190.91</td>\n",
              "      <td>130.69</td>\n",
              "      <td>51.46</td>\n",
              "    </tr>\n",
              "    <tr>\n",
              "      <th>10445</th>\n",
              "      <td>7</td>\n",
              "      <td>16</td>\n",
              "      <td>0</td>\n",
              "      <td>0</td>\n",
              "      <td>9</td>\n",
              "      <td>200.75</td>\n",
              "      <td>184.75</td>\n",
              "      <td>164.12</td>\n",
              "      <td>104.23</td>\n",
              "      <td>52.38</td>\n",
              "      <td>19.98</td>\n",
              "      <td>180.32</td>\n",
              "      <td>117.21</td>\n",
              "      <td>40.89</td>\n",
              "    </tr>\n",
              "  </tbody>\n",
              "</table>\n",
              "<p>10446 rows × 14 columns</p>\n",
              "</div>\n",
              "      <button class=\"colab-df-convert\" onclick=\"convertToInteractive('df-e24c8dba-9aa6-46f2-8e05-4cf34935d035')\"\n",
              "              title=\"Convert this dataframe to an interactive table.\"\n",
              "              style=\"display:none;\">\n",
              "        \n",
              "  <svg xmlns=\"http://www.w3.org/2000/svg\" height=\"24px\"viewBox=\"0 0 24 24\"\n",
              "       width=\"24px\">\n",
              "    <path d=\"M0 0h24v24H0V0z\" fill=\"none\"/>\n",
              "    <path d=\"M18.56 5.44l.94 2.06.94-2.06 2.06-.94-2.06-.94-.94-2.06-.94 2.06-2.06.94zm-11 1L8.5 8.5l.94-2.06 2.06-.94-2.06-.94L8.5 2.5l-.94 2.06-2.06.94zm10 10l.94 2.06.94-2.06 2.06-.94-2.06-.94-.94-2.06-.94 2.06-2.06.94z\"/><path d=\"M17.41 7.96l-1.37-1.37c-.4-.4-.92-.59-1.43-.59-.52 0-1.04.2-1.43.59L10.3 9.45l-7.72 7.72c-.78.78-.78 2.05 0 2.83L4 21.41c.39.39.9.59 1.41.59.51 0 1.02-.2 1.41-.59l7.78-7.78 2.81-2.81c.8-.78.8-2.07 0-2.86zM5.41 20L4 18.59l7.72-7.72 1.47 1.35L5.41 20z\"/>\n",
              "  </svg>\n",
              "      </button>\n",
              "      \n",
              "  <style>\n",
              "    .colab-df-container {\n",
              "      display:flex;\n",
              "      flex-wrap:wrap;\n",
              "      gap: 12px;\n",
              "    }\n",
              "\n",
              "    .colab-df-convert {\n",
              "      background-color: #E8F0FE;\n",
              "      border: none;\n",
              "      border-radius: 50%;\n",
              "      cursor: pointer;\n",
              "      display: none;\n",
              "      fill: #1967D2;\n",
              "      height: 32px;\n",
              "      padding: 0 0 0 0;\n",
              "      width: 32px;\n",
              "    }\n",
              "\n",
              "    .colab-df-convert:hover {\n",
              "      background-color: #E2EBFA;\n",
              "      box-shadow: 0px 1px 2px rgba(60, 64, 67, 0.3), 0px 1px 3px 1px rgba(60, 64, 67, 0.15);\n",
              "      fill: #174EA6;\n",
              "    }\n",
              "\n",
              "    [theme=dark] .colab-df-convert {\n",
              "      background-color: #3B4455;\n",
              "      fill: #D2E3FC;\n",
              "    }\n",
              "\n",
              "    [theme=dark] .colab-df-convert:hover {\n",
              "      background-color: #434B5C;\n",
              "      box-shadow: 0px 1px 3px 1px rgba(0, 0, 0, 0.15);\n",
              "      filter: drop-shadow(0px 1px 2px rgba(0, 0, 0, 0.3));\n",
              "      fill: #FFFFFF;\n",
              "    }\n",
              "  </style>\n",
              "\n",
              "      <script>\n",
              "        const buttonEl =\n",
              "          document.querySelector('#df-e24c8dba-9aa6-46f2-8e05-4cf34935d035 button.colab-df-convert');\n",
              "        buttonEl.style.display =\n",
              "          google.colab.kernel.accessAllowed ? 'block' : 'none';\n",
              "\n",
              "        async function convertToInteractive(key) {\n",
              "          const element = document.querySelector('#df-e24c8dba-9aa6-46f2-8e05-4cf34935d035');\n",
              "          const dataTable =\n",
              "            await google.colab.kernel.invokeFunction('convertToInteractive',\n",
              "                                                     [key], {});\n",
              "          if (!dataTable) return;\n",
              "\n",
              "          const docLinkHtml = 'Like what you see? Visit the ' +\n",
              "            '<a target=\"_blank\" href=https://colab.research.google.com/notebooks/data_table.ipynb>data table notebook</a>'\n",
              "            + ' to learn more about interactive tables.';\n",
              "          element.innerHTML = '';\n",
              "          dataTable['output_type'] = 'display_data';\n",
              "          await google.colab.output.renderOutput(dataTable, element);\n",
              "          const docLink = document.createElement('div');\n",
              "          docLink.innerHTML = docLinkHtml;\n",
              "          element.appendChild(docLink);\n",
              "        }\n",
              "      </script>\n",
              "    </div>\n",
              "  </div>\n",
              "  "
            ]
          },
          "metadata": {},
          "execution_count": 44
        }
      ]
    },
    {
      "cell_type": "code",
      "source": [
        "data1 = df5.drop([\"星級\"], axis=1) #剔除 y\n",
        "X = data1 \n",
        "y = df5.星級 #選擇 y"
      ],
      "metadata": {
        "id": "VicT6zGgDxdP"
      },
      "execution_count": null,
      "outputs": []
    },
    {
      "cell_type": "code",
      "source": [
        "X_train, X_test, y_train, y_test = train_test_split(X, y, test_size=0.3, random_state=0)"
      ],
      "metadata": {
        "id": "n2YzU3T6D261"
      },
      "execution_count": null,
      "outputs": []
    },
    {
      "cell_type": "code",
      "source": [
        "lg = LogisticRegression(C=1.0, tol=1e-6, multi_class='multinomial', solver='newton-cg',max_iter=200)\n",
        "lg.fit(X_train,y_train)\n",
        "print('在測試數據集上的預測準確率: {:.2f}'.format(lg.score(X_test, y_test)))\n",
        "print(lg.score(X_test, y_test))\n",
        "print (\"\\n\\n ---邏輯回歸---\")"
      ],
      "metadata": {
        "colab": {
          "base_uri": "https://localhost:8080/"
        },
        "id": "4L-SqbBwD8W3",
        "outputId": "96044b46-ed7b-4e80-d8af-4328cdd34846"
      },
      "execution_count": null,
      "outputs": [
        {
          "output_type": "stream",
          "name": "stdout",
          "text": [
            "在測試數據集上的預測準確率: 0.21\n",
            "0.20516911295469048\n",
            "\n",
            "\n",
            " ---邏輯回歸---\n"
          ]
        },
        {
          "output_type": "stream",
          "name": "stderr",
          "text": [
            "/usr/local/lib/python3.7/dist-packages/sklearn/utils/optimize.py:212: ConvergenceWarning: newton-cg failed to converge. Increase the number of iterations.\n",
            "  ConvergenceWarning,\n"
          ]
        }
      ]
    },
    {
      "cell_type": "code",
      "source": [
        "xgb = XGBClassifier(\n",
        "    #深度\n",
        "    max_depth=6, \n",
        "    #疊帶次數\n",
        "    n_estimators=300,\n",
        "    #學習數率\n",
        "    learn_rate =0.001,\n",
        "    objective = 'multi:softmax',\n",
        "    num_class=9)\n",
        "xgb.fit(X_train,y_train)\n",
        "print('在測試數據集上的預測準確率: {:.2f}'.format(xgb.score(X_test,y_test)))\n",
        "print(xgb.score(X_test, y_test))\n",
        "print (\"\\n\\n ---xgboost---\")"
      ],
      "metadata": {
        "colab": {
          "base_uri": "https://localhost:8080/"
        },
        "id": "KbN_OZizEIbO",
        "outputId": "63c414aa-105c-4803-9c44-aa869096ee96"
      },
      "execution_count": null,
      "outputs": [
        {
          "output_type": "stream",
          "name": "stdout",
          "text": [
            "在測試數據集上的預測準確率: 0.22\n",
            "0.21857051691129548\n",
            "\n",
            "\n",
            " ---xgboost---\n"
          ]
        }
      ]
    },
    {
      "cell_type": "code",
      "source": [
        "rf_clf = RandomForestClassifier(n_estimators=1000, random_state=42)\n",
        "rf_clf.fit(X_train, y_train)\n",
        "print('在測試數據集上的預測準確率: {:.2f}'.format(rf_clf.score(X_test,y_test)))\n",
        "print(rf_clf.score(X_test, y_test))\n",
        "print (\"\\n\\n ---隨機森林---\")"
      ],
      "metadata": {
        "colab": {
          "base_uri": "https://localhost:8080/"
        },
        "id": "5Q49RbkBEJGt",
        "outputId": "4db90459-2db3-4376-9a7e-1315f33d6db6"
      },
      "execution_count": null,
      "outputs": [
        {
          "output_type": "stream",
          "name": "stdout",
          "text": [
            "在測試數據集上的預測準確率: 0.21\n",
            "0.20835992342054882\n",
            "\n",
            "\n",
            " ---隨機森林---\n"
          ]
        }
      ]
    },
    {
      "cell_type": "code",
      "source": [
        "tree_clf = DecisionTreeClassifier(random_state=100)\n",
        "tree_clf.fit(X_train, y_train)\n",
        "print('在測試數據集上的預測準確率: {:.2f}'.format(tree_clf.score(X_test,y_test)))\n",
        "print(tree_clf.score(X_test, y_test))\n",
        "print (\"\\n\\n ---決策樹---\")"
      ],
      "metadata": {
        "colab": {
          "base_uri": "https://localhost:8080/"
        },
        "id": "pDcceJYUEMgT",
        "outputId": "6dfc9a9f-a52d-470f-c295-309c1368f6e4"
      },
      "execution_count": null,
      "outputs": [
        {
          "output_type": "stream",
          "name": "stdout",
          "text": [
            "在測試數據集上的預測準確率: 0.19\n",
            "0.18953414167198468\n",
            "\n",
            "\n",
            " ---決策樹---\n"
          ]
        }
      ]
    },
    {
      "cell_type": "code",
      "source": [
        "gbm = lgb.LGBMClassifier(objective = 'multiclass',num_class=9,learning_rate = 0.05,n_estimators = 100,random_state=0)\n",
        "gbm.fit(X_train, y_train)\n",
        "print(gbm.score(X_test, y_test))\n",
        "print('在測試數據集上的預測準確率: {:.2f}'.format(gbm.score(X_test,y_test)))"
      ],
      "metadata": {
        "colab": {
          "base_uri": "https://localhost:8080/"
        },
        "id": "1y0zCtIJEMaq",
        "outputId": "00128824-2556-445f-8ae5-f910e64e867a"
      },
      "execution_count": null,
      "outputs": [
        {
          "output_type": "stream",
          "name": "stdout",
          "text": [
            "0.22750478621569878\n",
            "在測試數據集上的預測準確率: 0.23\n"
          ]
        }
      ]
    },
    {
      "cell_type": "markdown",
      "source": [
        "# 更換y"
      ],
      "metadata": {
        "id": "1kFMTA1zI8Xi"
      }
    },
    {
      "cell_type": "code",
      "source": [
        "df = pd.read_csv('/content/drive/MyDrive/paper/code/original_data/mix_googlemap_and_no_choose_photo_color.csv')"
      ],
      "metadata": {
        "id": "4coJASkLJBAs"
      },
      "execution_count": null,
      "outputs": []
    },
    {
      "cell_type": "code",
      "source": [
        "df1 = df[['color','hsv_color','星級','評論','行政區']]\n",
        "color = df1['color']\n",
        "color_list = []\n",
        "rgb_color1_r = []\n",
        "rgb_color1_g = []\n",
        "rgb_color1_b = []\n",
        "rgb_color2_r = []\n",
        "rgb_color2_g = []\n",
        "rgb_color2_b = []\n",
        "rgb_color3_r = []\n",
        "rgb_color3_g = []\n",
        "rgb_color3_b = []\n",
        "for i in color:\n",
        "    clean = i.replace('[[','').replace(' [','').replace(']','').replace(' ','').split(',')\n",
        "    for j in clean:\n",
        "        color_list.append(j)\n",
        "for c1 in range(0,len(color_list),9):\n",
        "    rgb_color1_r.append(float(color_list[c1]))\n",
        "for c2 in range(1,len(color_list),9):\n",
        "    rgb_color1_g.append(float(color_list[c2]))\n",
        "for c3 in range(2,len(color_list),9):\n",
        "    rgb_color1_b.append(float(color_list[c3]))\n",
        "for c4 in range(3,len(color_list),9):\n",
        "    rgb_color2_r.append(float(color_list[c4]))\n",
        "for c5 in range(4,len(color_list),9):\n",
        "    rgb_color2_g.append(float(color_list[c5]))\n",
        "for c6 in range(5,len(color_list),9):\n",
        "    rgb_color2_b.append(float(color_list[c6]))\n",
        "for c7 in range(6,len(color_list),9):\n",
        "    rgb_color3_r.append(float(color_list[c7]))\n",
        "for c8 in range(7,len(color_list),9):\n",
        "    rgb_color3_g.append(float(color_list[c8]))\n",
        "for c9 in range(8,len(color_list),9):\n",
        "    rgb_color3_b.append(float(color_list[c9]))"
      ],
      "metadata": {
        "id": "9phQsbRrMh3l"
      },
      "execution_count": null,
      "outputs": []
    },
    {
      "cell_type": "code",
      "source": [
        "df1['rgb_color1_r'] = rgb_color1_r\n",
        "df1['rgb_color1_g'] = rgb_color1_g\n",
        "df1['rgb_color1_b'] = rgb_color1_b\n",
        "df1['rgb_color2_r'] = rgb_color2_r\n",
        "df1['rgb_color2_g'] = rgb_color2_g\n",
        "df1['rgb_color2_b'] = rgb_color2_b\n",
        "df1['rgb_color3_r'] = rgb_color3_r\n",
        "df1['rgb_color3_g'] = rgb_color3_g\n",
        "df1['rgb_color3_b'] = rgb_color3_b"
      ],
      "metadata": {
        "colab": {
          "base_uri": "https://localhost:8080/"
        },
        "id": "Bt2aZ6wAMktd",
        "outputId": "13817f8d-985c-4bdd-983b-3ed347df3ba6"
      },
      "execution_count": null,
      "outputs": [
        {
          "output_type": "stream",
          "name": "stderr",
          "text": [
            "/usr/local/lib/python3.7/dist-packages/ipykernel_launcher.py:1: SettingWithCopyWarning: \n",
            "A value is trying to be set on a copy of a slice from a DataFrame.\n",
            "Try using .loc[row_indexer,col_indexer] = value instead\n",
            "\n",
            "See the caveats in the documentation: https://pandas.pydata.org/pandas-docs/stable/user_guide/indexing.html#returning-a-view-versus-a-copy\n",
            "  \"\"\"Entry point for launching an IPython kernel.\n",
            "/usr/local/lib/python3.7/dist-packages/ipykernel_launcher.py:2: SettingWithCopyWarning: \n",
            "A value is trying to be set on a copy of a slice from a DataFrame.\n",
            "Try using .loc[row_indexer,col_indexer] = value instead\n",
            "\n",
            "See the caveats in the documentation: https://pandas.pydata.org/pandas-docs/stable/user_guide/indexing.html#returning-a-view-versus-a-copy\n",
            "  \n",
            "/usr/local/lib/python3.7/dist-packages/ipykernel_launcher.py:3: SettingWithCopyWarning: \n",
            "A value is trying to be set on a copy of a slice from a DataFrame.\n",
            "Try using .loc[row_indexer,col_indexer] = value instead\n",
            "\n",
            "See the caveats in the documentation: https://pandas.pydata.org/pandas-docs/stable/user_guide/indexing.html#returning-a-view-versus-a-copy\n",
            "  This is separate from the ipykernel package so we can avoid doing imports until\n"
          ]
        }
      ]
    },
    {
      "cell_type": "code",
      "source": [
        "hsv_color = df1['hsv_color']\n",
        "hsv_color_list = []\n",
        "hsv_color1 = []\n",
        "hsv_color2 = []\n",
        "hsv_color3 = []\n",
        "for i in hsv_color:\n",
        "    hsv_clean = i.replace(\"['\", '').replace(\"'\", '').replace(\"]\", '').replace(' ', '').split(',')\n",
        "    for k in hsv_clean:\n",
        "        hsv_color_list.append(k)\n",
        "for u in range(0,len(hsv_color_list),3):\n",
        "    hsv_color1.append(hsv_color_list[u])\n",
        "for u in range(1,len(hsv_color_list),3):\n",
        "    hsv_color2.append(hsv_color_list[u])\n",
        "for u in range(2,len(hsv_color_list),3):\n",
        "    hsv_color3.append(hsv_color_list[u])"
      ],
      "metadata": {
        "id": "EA7KDguNMnCO"
      },
      "execution_count": null,
      "outputs": []
    },
    {
      "cell_type": "code",
      "source": [
        "df1['hsv_color1'] = hsv_color1\n",
        "df1['hsv_color2'] = hsv_color2\n",
        "df1['hsv_color3'] = hsv_color3"
      ],
      "metadata": {
        "id": "e-LvDl0tMpmH"
      },
      "execution_count": null,
      "outputs": []
    },
    {
      "cell_type": "code",
      "source": [
        "df2 =df1.drop(['color','hsv_color'], axis=1)"
      ],
      "metadata": {
        "id": "Ts8lQAR2Mr_Z"
      },
      "execution_count": null,
      "outputs": []
    },
    {
      "cell_type": "code",
      "source": [
        "labelencoder = LabelEncoder()\n",
        "df2['行政區'] = labelencoder.fit_transform(df2['行政區'])\n",
        "df2['hsv_color1'] = labelencoder.fit_transform(df2['hsv_color1'])\n",
        "df2['hsv_color2'] = labelencoder.fit_transform(df2['hsv_color2'])\n",
        "df2['hsv_color3'] = labelencoder.fit_transform(df2['hsv_color3'])"
      ],
      "metadata": {
        "id": "iij4Tr6TMsmC"
      },
      "execution_count": null,
      "outputs": []
    },
    {
      "cell_type": "code",
      "source": [
        "df2['星級']=df2['星級'].astype(str).replace('4.1','0').replace('4.2','0').replace('4.3','0').replace('4.3','0').replace\\\n",
        "('4.4','0').replace('4.5','1').replace('4.6','1').replace('4.7','1').replace('4.8','1').replace('4.9','1')\n",
        "df2['星級']=df2['星級'].astype(int)"
      ],
      "metadata": {
        "id": "eryipipTMu0l"
      },
      "execution_count": null,
      "outputs": []
    },
    {
      "cell_type": "code",
      "source": [
        "df2.rename(columns={'評論': 'Comment','行政區':'Administrative_area'}, inplace=True)"
      ],
      "metadata": {
        "id": "Q_xoSLpxOSw-"
      },
      "execution_count": null,
      "outputs": []
    },
    {
      "cell_type": "code",
      "source": [
        "df2 = df2.drop(['Comment'], axis=1)"
      ],
      "metadata": {
        "id": "vy0M-NDvOBff"
      },
      "execution_count": null,
      "outputs": []
    },
    {
      "cell_type": "code",
      "source": [
        "df2"
      ],
      "metadata": {
        "colab": {
          "base_uri": "https://localhost:8080/",
          "height": 423
        },
        "id": "vwjUEc1jOY7N",
        "outputId": "47e728d6-1c4f-454c-db23-ccb30ba97a2d"
      },
      "execution_count": null,
      "outputs": [
        {
          "output_type": "execute_result",
          "data": {
            "text/plain": [
              "       星級  Administrative_area  rgb_color1_r  rgb_color1_g  rgb_color1_b  \\\n",
              "0       1                    0    138.018965    119.112455    102.890825   \n",
              "1       0                    0     32.558143     31.146338     28.148720   \n",
              "2       0                    0     37.037390     40.863343     28.806965   \n",
              "3       0                    0    200.025852    187.859231    172.422216   \n",
              "4       0                    0    215.027711    200.570823    172.371465   \n",
              "...    ..                  ...           ...           ...           ...   \n",
              "10441   1                   16    187.727768    190.123246    187.009855   \n",
              "10442   1                   16    130.977024    124.252426    106.267264   \n",
              "10443   1                   16     81.754422     46.003568     14.412517   \n",
              "10444   1                   16    227.333485    217.658759    189.313412   \n",
              "10445   1                   16    200.758656    184.751460    164.120291   \n",
              "\n",
              "       rgb_color2_r  rgb_color2_g  rgb_color2_b  rgb_color3_r  rgb_color3_g  \\\n",
              "0        188.259172    177.909465    172.014798     41.588127     32.907300   \n",
              "1        181.140879    178.080359    168.291001    104.827952     90.094104   \n",
              "2        219.810475    208.363699    193.728042    172.283769    147.773632   \n",
              "3         38.536858     29.412335     21.640431    137.736435    105.867856   \n",
              "4         49.132519     36.165505     27.022709    137.532042    115.764864   \n",
              "...             ...           ...           ...           ...           ...   \n",
              "10441     51.578352     49.874537     51.629518    137.086083    123.072035   \n",
              "10442     54.572830     42.772612     23.968882    170.319444    191.401570   \n",
              "10443    215.230174    191.682332    176.464769    156.345821    121.517794   \n",
              "10444     84.172717     33.389671     18.470843    190.917478    130.694280   \n",
              "10445    104.235636     52.380364     19.988000    180.322315    117.215619   \n",
              "\n",
              "       rgb_color3_b  hsv_color1  hsv_color2  hsv_color3  \n",
              "0         30.816535           9           8           0  \n",
              "1         76.532580           1           0           0  \n",
              "2         89.230597           0           9           0  \n",
              "3         64.361770           0           0           0  \n",
              "4         82.344907           9           1           9  \n",
              "...             ...         ...         ...         ...  \n",
              "10441     98.358461           0           0           9  \n",
              "10442    206.081522           0           0           0  \n",
              "10443     55.338679           0           9           0  \n",
              "10444     51.463486           0           0           1  \n",
              "10445     40.891762           0           0           9  \n",
              "\n",
              "[10446 rows x 14 columns]"
            ],
            "text/html": [
              "\n",
              "  <div id=\"df-c661be82-21c7-4837-b8c5-49d9e60c58f7\">\n",
              "    <div class=\"colab-df-container\">\n",
              "      <div>\n",
              "<style scoped>\n",
              "    .dataframe tbody tr th:only-of-type {\n",
              "        vertical-align: middle;\n",
              "    }\n",
              "\n",
              "    .dataframe tbody tr th {\n",
              "        vertical-align: top;\n",
              "    }\n",
              "\n",
              "    .dataframe thead th {\n",
              "        text-align: right;\n",
              "    }\n",
              "</style>\n",
              "<table border=\"1\" class=\"dataframe\">\n",
              "  <thead>\n",
              "    <tr style=\"text-align: right;\">\n",
              "      <th></th>\n",
              "      <th>星級</th>\n",
              "      <th>Administrative_area</th>\n",
              "      <th>rgb_color1_r</th>\n",
              "      <th>rgb_color1_g</th>\n",
              "      <th>rgb_color1_b</th>\n",
              "      <th>rgb_color2_r</th>\n",
              "      <th>rgb_color2_g</th>\n",
              "      <th>rgb_color2_b</th>\n",
              "      <th>rgb_color3_r</th>\n",
              "      <th>rgb_color3_g</th>\n",
              "      <th>rgb_color3_b</th>\n",
              "      <th>hsv_color1</th>\n",
              "      <th>hsv_color2</th>\n",
              "      <th>hsv_color3</th>\n",
              "    </tr>\n",
              "  </thead>\n",
              "  <tbody>\n",
              "    <tr>\n",
              "      <th>0</th>\n",
              "      <td>1</td>\n",
              "      <td>0</td>\n",
              "      <td>138.018965</td>\n",
              "      <td>119.112455</td>\n",
              "      <td>102.890825</td>\n",
              "      <td>188.259172</td>\n",
              "      <td>177.909465</td>\n",
              "      <td>172.014798</td>\n",
              "      <td>41.588127</td>\n",
              "      <td>32.907300</td>\n",
              "      <td>30.816535</td>\n",
              "      <td>9</td>\n",
              "      <td>8</td>\n",
              "      <td>0</td>\n",
              "    </tr>\n",
              "    <tr>\n",
              "      <th>1</th>\n",
              "      <td>0</td>\n",
              "      <td>0</td>\n",
              "      <td>32.558143</td>\n",
              "      <td>31.146338</td>\n",
              "      <td>28.148720</td>\n",
              "      <td>181.140879</td>\n",
              "      <td>178.080359</td>\n",
              "      <td>168.291001</td>\n",
              "      <td>104.827952</td>\n",
              "      <td>90.094104</td>\n",
              "      <td>76.532580</td>\n",
              "      <td>1</td>\n",
              "      <td>0</td>\n",
              "      <td>0</td>\n",
              "    </tr>\n",
              "    <tr>\n",
              "      <th>2</th>\n",
              "      <td>0</td>\n",
              "      <td>0</td>\n",
              "      <td>37.037390</td>\n",
              "      <td>40.863343</td>\n",
              "      <td>28.806965</td>\n",
              "      <td>219.810475</td>\n",
              "      <td>208.363699</td>\n",
              "      <td>193.728042</td>\n",
              "      <td>172.283769</td>\n",
              "      <td>147.773632</td>\n",
              "      <td>89.230597</td>\n",
              "      <td>0</td>\n",
              "      <td>9</td>\n",
              "      <td>0</td>\n",
              "    </tr>\n",
              "    <tr>\n",
              "      <th>3</th>\n",
              "      <td>0</td>\n",
              "      <td>0</td>\n",
              "      <td>200.025852</td>\n",
              "      <td>187.859231</td>\n",
              "      <td>172.422216</td>\n",
              "      <td>38.536858</td>\n",
              "      <td>29.412335</td>\n",
              "      <td>21.640431</td>\n",
              "      <td>137.736435</td>\n",
              "      <td>105.867856</td>\n",
              "      <td>64.361770</td>\n",
              "      <td>0</td>\n",
              "      <td>0</td>\n",
              "      <td>0</td>\n",
              "    </tr>\n",
              "    <tr>\n",
              "      <th>4</th>\n",
              "      <td>0</td>\n",
              "      <td>0</td>\n",
              "      <td>215.027711</td>\n",
              "      <td>200.570823</td>\n",
              "      <td>172.371465</td>\n",
              "      <td>49.132519</td>\n",
              "      <td>36.165505</td>\n",
              "      <td>27.022709</td>\n",
              "      <td>137.532042</td>\n",
              "      <td>115.764864</td>\n",
              "      <td>82.344907</td>\n",
              "      <td>9</td>\n",
              "      <td>1</td>\n",
              "      <td>9</td>\n",
              "    </tr>\n",
              "    <tr>\n",
              "      <th>...</th>\n",
              "      <td>...</td>\n",
              "      <td>...</td>\n",
              "      <td>...</td>\n",
              "      <td>...</td>\n",
              "      <td>...</td>\n",
              "      <td>...</td>\n",
              "      <td>...</td>\n",
              "      <td>...</td>\n",
              "      <td>...</td>\n",
              "      <td>...</td>\n",
              "      <td>...</td>\n",
              "      <td>...</td>\n",
              "      <td>...</td>\n",
              "      <td>...</td>\n",
              "    </tr>\n",
              "    <tr>\n",
              "      <th>10441</th>\n",
              "      <td>1</td>\n",
              "      <td>16</td>\n",
              "      <td>187.727768</td>\n",
              "      <td>190.123246</td>\n",
              "      <td>187.009855</td>\n",
              "      <td>51.578352</td>\n",
              "      <td>49.874537</td>\n",
              "      <td>51.629518</td>\n",
              "      <td>137.086083</td>\n",
              "      <td>123.072035</td>\n",
              "      <td>98.358461</td>\n",
              "      <td>0</td>\n",
              "      <td>0</td>\n",
              "      <td>9</td>\n",
              "    </tr>\n",
              "    <tr>\n",
              "      <th>10442</th>\n",
              "      <td>1</td>\n",
              "      <td>16</td>\n",
              "      <td>130.977024</td>\n",
              "      <td>124.252426</td>\n",
              "      <td>106.267264</td>\n",
              "      <td>54.572830</td>\n",
              "      <td>42.772612</td>\n",
              "      <td>23.968882</td>\n",
              "      <td>170.319444</td>\n",
              "      <td>191.401570</td>\n",
              "      <td>206.081522</td>\n",
              "      <td>0</td>\n",
              "      <td>0</td>\n",
              "      <td>0</td>\n",
              "    </tr>\n",
              "    <tr>\n",
              "      <th>10443</th>\n",
              "      <td>1</td>\n",
              "      <td>16</td>\n",
              "      <td>81.754422</td>\n",
              "      <td>46.003568</td>\n",
              "      <td>14.412517</td>\n",
              "      <td>215.230174</td>\n",
              "      <td>191.682332</td>\n",
              "      <td>176.464769</td>\n",
              "      <td>156.345821</td>\n",
              "      <td>121.517794</td>\n",
              "      <td>55.338679</td>\n",
              "      <td>0</td>\n",
              "      <td>9</td>\n",
              "      <td>0</td>\n",
              "    </tr>\n",
              "    <tr>\n",
              "      <th>10444</th>\n",
              "      <td>1</td>\n",
              "      <td>16</td>\n",
              "      <td>227.333485</td>\n",
              "      <td>217.658759</td>\n",
              "      <td>189.313412</td>\n",
              "      <td>84.172717</td>\n",
              "      <td>33.389671</td>\n",
              "      <td>18.470843</td>\n",
              "      <td>190.917478</td>\n",
              "      <td>130.694280</td>\n",
              "      <td>51.463486</td>\n",
              "      <td>0</td>\n",
              "      <td>0</td>\n",
              "      <td>1</td>\n",
              "    </tr>\n",
              "    <tr>\n",
              "      <th>10445</th>\n",
              "      <td>1</td>\n",
              "      <td>16</td>\n",
              "      <td>200.758656</td>\n",
              "      <td>184.751460</td>\n",
              "      <td>164.120291</td>\n",
              "      <td>104.235636</td>\n",
              "      <td>52.380364</td>\n",
              "      <td>19.988000</td>\n",
              "      <td>180.322315</td>\n",
              "      <td>117.215619</td>\n",
              "      <td>40.891762</td>\n",
              "      <td>0</td>\n",
              "      <td>0</td>\n",
              "      <td>9</td>\n",
              "    </tr>\n",
              "  </tbody>\n",
              "</table>\n",
              "<p>10446 rows × 14 columns</p>\n",
              "</div>\n",
              "      <button class=\"colab-df-convert\" onclick=\"convertToInteractive('df-c661be82-21c7-4837-b8c5-49d9e60c58f7')\"\n",
              "              title=\"Convert this dataframe to an interactive table.\"\n",
              "              style=\"display:none;\">\n",
              "        \n",
              "  <svg xmlns=\"http://www.w3.org/2000/svg\" height=\"24px\"viewBox=\"0 0 24 24\"\n",
              "       width=\"24px\">\n",
              "    <path d=\"M0 0h24v24H0V0z\" fill=\"none\"/>\n",
              "    <path d=\"M18.56 5.44l.94 2.06.94-2.06 2.06-.94-2.06-.94-.94-2.06-.94 2.06-2.06.94zm-11 1L8.5 8.5l.94-2.06 2.06-.94-2.06-.94L8.5 2.5l-.94 2.06-2.06.94zm10 10l.94 2.06.94-2.06 2.06-.94-2.06-.94-.94-2.06-.94 2.06-2.06.94z\"/><path d=\"M17.41 7.96l-1.37-1.37c-.4-.4-.92-.59-1.43-.59-.52 0-1.04.2-1.43.59L10.3 9.45l-7.72 7.72c-.78.78-.78 2.05 0 2.83L4 21.41c.39.39.9.59 1.41.59.51 0 1.02-.2 1.41-.59l7.78-7.78 2.81-2.81c.8-.78.8-2.07 0-2.86zM5.41 20L4 18.59l7.72-7.72 1.47 1.35L5.41 20z\"/>\n",
              "  </svg>\n",
              "      </button>\n",
              "      \n",
              "  <style>\n",
              "    .colab-df-container {\n",
              "      display:flex;\n",
              "      flex-wrap:wrap;\n",
              "      gap: 12px;\n",
              "    }\n",
              "\n",
              "    .colab-df-convert {\n",
              "      background-color: #E8F0FE;\n",
              "      border: none;\n",
              "      border-radius: 50%;\n",
              "      cursor: pointer;\n",
              "      display: none;\n",
              "      fill: #1967D2;\n",
              "      height: 32px;\n",
              "      padding: 0 0 0 0;\n",
              "      width: 32px;\n",
              "    }\n",
              "\n",
              "    .colab-df-convert:hover {\n",
              "      background-color: #E2EBFA;\n",
              "      box-shadow: 0px 1px 2px rgba(60, 64, 67, 0.3), 0px 1px 3px 1px rgba(60, 64, 67, 0.15);\n",
              "      fill: #174EA6;\n",
              "    }\n",
              "\n",
              "    [theme=dark] .colab-df-convert {\n",
              "      background-color: #3B4455;\n",
              "      fill: #D2E3FC;\n",
              "    }\n",
              "\n",
              "    [theme=dark] .colab-df-convert:hover {\n",
              "      background-color: #434B5C;\n",
              "      box-shadow: 0px 1px 3px 1px rgba(0, 0, 0, 0.15);\n",
              "      filter: drop-shadow(0px 1px 2px rgba(0, 0, 0, 0.3));\n",
              "      fill: #FFFFFF;\n",
              "    }\n",
              "  </style>\n",
              "\n",
              "      <script>\n",
              "        const buttonEl =\n",
              "          document.querySelector('#df-c661be82-21c7-4837-b8c5-49d9e60c58f7 button.colab-df-convert');\n",
              "        buttonEl.style.display =\n",
              "          google.colab.kernel.accessAllowed ? 'block' : 'none';\n",
              "\n",
              "        async function convertToInteractive(key) {\n",
              "          const element = document.querySelector('#df-c661be82-21c7-4837-b8c5-49d9e60c58f7');\n",
              "          const dataTable =\n",
              "            await google.colab.kernel.invokeFunction('convertToInteractive',\n",
              "                                                     [key], {});\n",
              "          if (!dataTable) return;\n",
              "\n",
              "          const docLinkHtml = 'Like what you see? Visit the ' +\n",
              "            '<a target=\"_blank\" href=https://colab.research.google.com/notebooks/data_table.ipynb>data table notebook</a>'\n",
              "            + ' to learn more about interactive tables.';\n",
              "          element.innerHTML = '';\n",
              "          dataTable['output_type'] = 'display_data';\n",
              "          await google.colab.output.renderOutput(dataTable, element);\n",
              "          const docLink = document.createElement('div');\n",
              "          docLink.innerHTML = docLinkHtml;\n",
              "          element.appendChild(docLink);\n",
              "        }\n",
              "      </script>\n",
              "    </div>\n",
              "  </div>\n",
              "  "
            ]
          },
          "metadata": {},
          "execution_count": 62
        }
      ]
    },
    {
      "cell_type": "code",
      "source": [
        "data1 = df2.drop([\"星級\"], axis=1) #剔除 y\n",
        "X = data1 \n",
        "y = df2.星級 #選擇 y"
      ],
      "metadata": {
        "id": "VUo3bnyDNDLT"
      },
      "execution_count": null,
      "outputs": []
    },
    {
      "cell_type": "code",
      "source": [
        "X_train, X_test, y_train, y_test = train_test_split(X, y, test_size=0.3, random_state=0)"
      ],
      "metadata": {
        "id": "WaZ06zgONILa"
      },
      "execution_count": null,
      "outputs": []
    },
    {
      "cell_type": "code",
      "source": [
        "lg = LogisticRegression(C=0.01,solver = 'sag')\n",
        "lg.fit(X_train,y_train)\n",
        "y_score = lg.fit(X_train,y_train).decision_function(X_test)\n",
        "print('在測試數據集上的預測準確率: {:.2f}'.format(lg.score(X_test, y_test)))\n",
        "print(lg.score(X_test, y_test))\n",
        "print (\"\\n\\n ---邏輯回歸---\")"
      ],
      "metadata": {
        "colab": {
          "base_uri": "https://localhost:8080/"
        },
        "id": "VXmEDwHMNKgi",
        "outputId": "585901c0-7b32-41e4-cdde-364c39e10211"
      },
      "execution_count": null,
      "outputs": [
        {
          "output_type": "stream",
          "name": "stdout",
          "text": [
            "在測試數據集上的預測準確率: 0.71\n",
            "0.7067645181876197\n",
            "\n",
            "\n",
            " ---邏輯回歸---\n"
          ]
        }
      ]
    },
    {
      "cell_type": "code",
      "source": [
        "xgb = XGBClassifier(\n",
        "    #深度\n",
        "    max_depth=3, \n",
        "    #疊帶次數\n",
        "    n_estimators=200,\n",
        "    #學習數率\n",
        "    learn_rate=0.01)\n",
        "xgb.fit(X_train,y_train)\n",
        "print('在測試數據集上的預測準確率: {:.2f}'.format(xgb.score(X_test,y_test)))\n",
        "print(xgb.score(X_test,y_test))\n",
        "print (\"\\n\\n ---xgboost---\")"
      ],
      "metadata": {
        "colab": {
          "base_uri": "https://localhost:8080/"
        },
        "id": "dTslT57VNfJr",
        "outputId": "6a459c26-7023-4d70-be63-a4140aa7f4cc"
      },
      "execution_count": null,
      "outputs": [
        {
          "output_type": "stream",
          "name": "stdout",
          "text": [
            "在測試數據集上的預測準確率: 0.70\n",
            "0.7016592214422464\n",
            "\n",
            "\n",
            " ---xgboost---\n"
          ]
        }
      ]
    },
    {
      "cell_type": "code",
      "source": [
        "rf_clf = RandomForestClassifier(n_estimators=1000, random_state=42)\n",
        "rf_clf.fit(X_train, y_train)\n",
        "print('在測試數據集上的預測準確率: {:.2f}'.format(rf_clf.score(X_test,y_test)))\n",
        "print(rf_clf.score(X_test,y_test))\n",
        "print (\"\\n\\n ---隨機森林---\")"
      ],
      "metadata": {
        "colab": {
          "base_uri": "https://localhost:8080/"
        },
        "id": "-WQ_YXfuNqOJ",
        "outputId": "cbafb8dd-7639-4cd1-d36c-e712641a378e"
      },
      "execution_count": null,
      "outputs": [
        {
          "output_type": "stream",
          "name": "stdout",
          "text": [
            "在測試數據集上的預測準確率: 0.70\n",
            "0.6968730057434588\n",
            "\n",
            "\n",
            " ---隨機森林---\n"
          ]
        }
      ]
    },
    {
      "cell_type": "code",
      "source": [
        "tree_clf = DecisionTreeClassifier(random_state=100)\n",
        "tree_clf.fit(X_train, y_train)\n",
        "print('在測試數據集上的預測準確率: {:.2f}'.format(tree_clf.score(X_test,y_test)))\n",
        "print(tree_clf.score(X_test,y_test))\n",
        "print (\"\\n\\n ---決策樹---\")"
      ],
      "metadata": {
        "colab": {
          "base_uri": "https://localhost:8080/"
        },
        "id": "phvqy_u3Nuop",
        "outputId": "0db34a14-9b13-47e0-fc03-5f88309ce327"
      },
      "execution_count": null,
      "outputs": [
        {
          "output_type": "stream",
          "name": "stdout",
          "text": [
            "在測試數據集上的預測準確率: 0.59\n",
            "0.5909380982769623\n",
            "\n",
            "\n",
            " ---決策樹---\n"
          ]
        }
      ]
    },
    {
      "cell_type": "code",
      "source": [
        "gbm = lgb.LGBMClassifier(objective = 'binary',learning_rate = 0.05,n_estimators = 100,random_state=0)\n",
        "gbm.fit(X_train, y_train)\n",
        "print('在測試數據集上的預測準確率: {:.2f}'.format(gbm.score(X_test,y_test)))\n",
        "print(gbm.score(X_test,y_test))\n",
        "print (\"\\n\\n ---lightgbm---\")"
      ],
      "metadata": {
        "colab": {
          "base_uri": "https://localhost:8080/"
        },
        "id": "O9BrSJQjNw_7",
        "outputId": "c9e94095-a6b0-4bae-debe-f7865ebf1414"
      },
      "execution_count": null,
      "outputs": [
        {
          "output_type": "stream",
          "name": "stdout",
          "text": [
            "在測試數據集上的預測準確率: 0.70\n",
            "0.7019783024888322\n",
            "\n",
            "\n",
            " ---lightgbm---\n"
          ]
        }
      ]
    },
    {
      "cell_type": "code",
      "source": [
        "coef_c1 = pd.DataFrame({'var' : pd.Series(X_test.columns),\n",
        "                        'coef_abs' : abs(pd.Series(lg.coef_[0].flatten()))\n",
        "                        })\n",
        "coef_c1 = coef_c1.sort_values(by = 'coef_abs',ascending=False)\n",
        "coef_c1.to_csv('tte.csv',index=False)\n",
        "print(coef_c1)\n",
        "print(type(coef_c1))"
      ],
      "metadata": {
        "colab": {
          "base_uri": "https://localhost:8080/"
        },
        "id": "TvzVvRetN6EP",
        "outputId": "ca75b84a-ff42-42b5-cb2a-62a06f1bc7a0"
      },
      "execution_count": null,
      "outputs": [
        {
          "output_type": "stream",
          "name": "stdout",
          "text": [
            "                    var  coef_abs\n",
            "10           hsv_color1  0.021681\n",
            "0   Administrative_area  0.009940\n",
            "2          rgb_color1_g  0.002974\n",
            "9          rgb_color3_b  0.002275\n",
            "4          rgb_color2_r  0.002046\n",
            "12           hsv_color3  0.002046\n",
            "7          rgb_color3_r  0.001877\n",
            "6          rgb_color2_b  0.001755\n",
            "5          rgb_color2_g  0.001337\n",
            "11           hsv_color2  0.001149\n",
            "8          rgb_color3_g  0.000690\n",
            "1          rgb_color1_r  0.000384\n",
            "3          rgb_color1_b  0.000086\n",
            "<class 'pandas.core.frame.DataFrame'>\n"
          ]
        }
      ]
    },
    {
      "cell_type": "code",
      "source": [
        "from xgboost import plot_importance\n",
        "from matplotlib import pyplot\n",
        "plt.rcParams['font.sans-serif']=['SimHei']\n",
        "plt.rcParams['axes.unicode_minus'] = False\n",
        "plt.rcParams['figure.autolayout'] = True\n",
        "plot_importance(xgb)\n",
        "pyplot.show()"
      ],
      "metadata": {
        "colab": {
          "base_uri": "https://localhost:8080/",
          "height": 297
        },
        "id": "silpSej8PDZ8",
        "outputId": "fec74efa-f95e-40c7-8fd2-aa0a05a6b790"
      },
      "execution_count": null,
      "outputs": [
        {
          "output_type": "display_data",
          "data": {
            "text/plain": [
              "<Figure size 432x288 with 1 Axes>"
            ],
            "image/png": "[encoded data removed]"
          },
          "metadata": {
            "needs_background": "light"
          }
        }
      ]
    },
    {
      "cell_type": "code",
      "source": [
        "feat_labels = df2.columns[1:]"
      ],
      "metadata": {
        "id": "g7Chgg-iPHki"
      },
      "execution_count": null,
      "outputs": []
    },
    {
      "cell_type": "code",
      "source": [
        "importances = rf_clf.feature_importances_\n",
        "indices = np.argsort(importances)[::-1]\n",
        "for f in range(X_train.shape[1]):\n",
        "    print(\"%2d) %-*s %f\" % (f + 1, 30, feat_labels[indices[f]], importances[indices[f]]))"
      ],
      "metadata": {
        "colab": {
          "base_uri": "https://localhost:8080/"
        },
        "id": "FfDnw7_IPJH2",
        "outputId": "42109e2f-f51d-4394-f1d8-4b0bba6acde4"
      },
      "execution_count": null,
      "outputs": [
        {
          "output_type": "stream",
          "name": "stdout",
          "text": [
            " 1) rgb_color3_r                   0.096003\n",
            " 2) rgb_color3_b                   0.095711\n",
            " 3) rgb_color3_g                   0.095598\n",
            " 4) rgb_color2_b                   0.095508\n",
            " 5) rgb_color1_b                   0.095315\n",
            " 6) rgb_color2_r                   0.095245\n",
            " 7) rgb_color1_g                   0.092902\n",
            " 8) rgb_color1_r                   0.092672\n",
            " 9) rgb_color2_g                   0.092210\n",
            "10) Administrative_area            0.060664\n",
            "11) hsv_color3                     0.029872\n",
            "12) hsv_color2                     0.029303\n",
            "13) hsv_color1                     0.028998\n"
          ]
        }
      ]
    },
    {
      "cell_type": "code",
      "source": [
        "importances = tree_clf.feature_importances_\n",
        "indices = np.argsort(importances)[::-1]\n",
        "for f in range(X_train.shape[1]):\n",
        "    print(\"%2d) %-*s %f\" % (f + 1, 30, feat_labels[indices[f]], importances[indices[f]]))"
      ],
      "metadata": {
        "id": "uWLwUrHcPMus",
        "outputId": "b5c0b319-b7af-40a7-ad9b-68dbc3e5e74d",
        "colab": {
          "base_uri": "https://localhost:8080/"
        }
      },
      "execution_count": null,
      "outputs": [
        {
          "output_type": "stream",
          "name": "stdout",
          "text": [
            " 1) rgb_color2_b                   0.112642\n",
            " 2) rgb_color3_b                   0.110480\n",
            " 3) rgb_color3_r                   0.109061\n",
            " 4) rgb_color1_r                   0.100005\n",
            " 5) rgb_color2_r                   0.095935\n",
            " 6) rgb_color1_g                   0.090185\n",
            " 7) rgb_color3_g                   0.087396\n",
            " 8) rgb_color2_g                   0.086346\n",
            " 9) rgb_color1_b                   0.079798\n",
            "10) Administrative_area            0.045612\n",
            "11) hsv_color1                     0.032357\n",
            "12) hsv_color2                     0.025774\n",
            "13) hsv_color3                     0.024409\n"
          ]
        }
      ]
    },
    {
      "cell_type": "code",
      "source": [
        "plt.figure(figsize=(12,6))\n",
        "lgb.plot_importance(gbm, max_num_features=30)\n",
        "plt.title(\"Featurertances\")\n",
        "plt.show()"
      ],
      "metadata": {
        "id": "oSWmu-x8PPZv",
        "outputId": "77e3405d-c8cb-47e1-e749-2fa20bcab0dd",
        "colab": {
          "base_uri": "https://localhost:8080/",
          "height": 315
        }
      },
      "execution_count": null,
      "outputs": [
        {
          "output_type": "display_data",
          "data": {
            "text/plain": [
              "<Figure size 864x432 with 0 Axes>"
            ]
          },
          "metadata": {}
        },
        {
          "output_type": "display_data",
          "data": {
            "text/plain": [
              "<Figure size 432x288 with 1 Axes>"
            ],
            "image/png": "[encoded data removed]"
          },
          "metadata": {
            "needs_background": "light"
          }
        }
      ]
    },
    {
      "cell_type": "markdown",
      "source": [
        "# 更改y成三個"
      ],
      "metadata": {
        "id": "124UtB97nZV0"
      }
    },
    {
      "cell_type": "code",
      "source": [
        "df = pd.read_csv('/content/drive/MyDrive/paper/code/original_data/mix_googlemap_and_no_choose_photo_color.csv')"
      ],
      "metadata": {
        "id": "PFRVNG6MnfH-"
      },
      "execution_count": null,
      "outputs": []
    },
    {
      "cell_type": "code",
      "source": [
        "df1 = df[['color','hsv_color','星級','評論','行政區']]\n",
        "color = df1['color']\n",
        "color_list = []\n",
        "rgb_color1_r = []\n",
        "rgb_color1_g = []\n",
        "rgb_color1_b = []\n",
        "rgb_color2_r = []\n",
        "rgb_color2_g = []\n",
        "rgb_color2_b = []\n",
        "rgb_color3_r = []\n",
        "rgb_color3_g = []\n",
        "rgb_color3_b = []\n",
        "for i in color:\n",
        "    clean = i.replace('[[','').replace(' [','').replace(']','').replace(' ','').split(',')\n",
        "    for j in clean:\n",
        "        color_list.append(j)\n",
        "for c1 in range(0,len(color_list),9):\n",
        "    rgb_color1_r.append(float(color_list[c1]))\n",
        "for c2 in range(1,len(color_list),9):\n",
        "    rgb_color1_g.append(float(color_list[c2]))\n",
        "for c3 in range(2,len(color_list),9):\n",
        "    rgb_color1_b.append(float(color_list[c3]))\n",
        "for c4 in range(3,len(color_list),9):\n",
        "    rgb_color2_r.append(float(color_list[c4]))\n",
        "for c5 in range(4,len(color_list),9):\n",
        "    rgb_color2_g.append(float(color_list[c5]))\n",
        "for c6 in range(5,len(color_list),9):\n",
        "    rgb_color2_b.append(float(color_list[c6]))\n",
        "for c7 in range(6,len(color_list),9):\n",
        "    rgb_color3_r.append(float(color_list[c7]))\n",
        "for c8 in range(7,len(color_list),9):\n",
        "    rgb_color3_g.append(float(color_list[c8]))\n",
        "for c9 in range(8,len(color_list),9):\n",
        "    rgb_color3_b.append(float(color_list[c9]))"
      ],
      "metadata": {
        "id": "K3lwUxVrnoog"
      },
      "execution_count": null,
      "outputs": []
    },
    {
      "cell_type": "code",
      "source": [
        "df1['rgb_color1_r'] = rgb_color1_r\n",
        "df1['rgb_color1_g'] = rgb_color1_g\n",
        "df1['rgb_color1_b'] = rgb_color1_b\n",
        "df1['rgb_color2_r'] = rgb_color2_r\n",
        "df1['rgb_color2_g'] = rgb_color2_g\n",
        "df1['rgb_color2_b'] = rgb_color2_b\n",
        "df1['rgb_color3_r'] = rgb_color3_r\n",
        "df1['rgb_color3_g'] = rgb_color3_g\n",
        "df1['rgb_color3_b'] = rgb_color3_b"
      ],
      "metadata": {
        "colab": {
          "base_uri": "https://localhost:8080/"
        },
        "id": "RDltpK_6n39d",
        "outputId": "be31ce69-20eb-4ad9-c499-c758341b4f69"
      },
      "execution_count": null,
      "outputs": [
        {
          "output_type": "stream",
          "name": "stderr",
          "text": [
            "/usr/local/lib/python3.7/dist-packages/ipykernel_launcher.py:1: SettingWithCopyWarning: \n",
            "A value is trying to be set on a copy of a slice from a DataFrame.\n",
            "Try using .loc[row_indexer,col_indexer] = value instead\n",
            "\n",
            "See the caveats in the documentation: https://pandas.pydata.org/pandas-docs/stable/user_guide/indexing.html#returning-a-view-versus-a-copy\n",
            "  \"\"\"Entry point for launching an IPython kernel.\n",
            "/usr/local/lib/python3.7/dist-packages/ipykernel_launcher.py:2: SettingWithCopyWarning: \n",
            "A value is trying to be set on a copy of a slice from a DataFrame.\n",
            "Try using .loc[row_indexer,col_indexer] = value instead\n",
            "\n",
            "See the caveats in the documentation: https://pandas.pydata.org/pandas-docs/stable/user_guide/indexing.html#returning-a-view-versus-a-copy\n",
            "  \n",
            "/usr/local/lib/python3.7/dist-packages/ipykernel_launcher.py:3: SettingWithCopyWarning: \n",
            "A value is trying to be set on a copy of a slice from a DataFrame.\n",
            "Try using .loc[row_indexer,col_indexer] = value instead\n",
            "\n",
            "See the caveats in the documentation: https://pandas.pydata.org/pandas-docs/stable/user_guide/indexing.html#returning-a-view-versus-a-copy\n",
            "  This is separate from the ipykernel package so we can avoid doing imports until\n"
          ]
        }
      ]
    },
    {
      "cell_type": "code",
      "source": [
        "hsv_color = df1['hsv_color']\n",
        "hsv_color_list = []\n",
        "hsv_color1 = []\n",
        "hsv_color2 = []\n",
        "hsv_color3 = []\n",
        "for i in hsv_color:\n",
        "    hsv_clean = i.replace(\"['\", '').replace(\"'\", '').replace(\"]\", '').replace(' ', '').split(',')\n",
        "    for k in hsv_clean:\n",
        "        hsv_color_list.append(k)\n",
        "for u in range(0,len(hsv_color_list),3):\n",
        "    hsv_color1.append(hsv_color_list[u])\n",
        "for u in range(1,len(hsv_color_list),3):\n",
        "    hsv_color2.append(hsv_color_list[u])\n",
        "for u in range(2,len(hsv_color_list),3):\n",
        "    hsv_color3.append(hsv_color_list[u])"
      ],
      "metadata": {
        "id": "WWYK6m-dn9gl"
      },
      "execution_count": null,
      "outputs": []
    },
    {
      "cell_type": "code",
      "source": [
        "df1['hsv_color1'] = hsv_color1\n",
        "df1['hsv_color2'] = hsv_color2\n",
        "df1['hsv_color3'] = hsv_color3"
      ],
      "metadata": {
        "id": "Yl64qXGQoBtv"
      },
      "execution_count": null,
      "outputs": []
    },
    {
      "cell_type": "code",
      "source": [
        "df2 =df1.drop(['color','hsv_color'], axis=1)"
      ],
      "metadata": {
        "id": "GwGOt_rUoYdM"
      },
      "execution_count": null,
      "outputs": []
    },
    {
      "cell_type": "code",
      "source": [
        "labelencoder = LabelEncoder()\n",
        "df2['行政區'] = labelencoder.fit_transform(df2['行政區'])\n",
        "df2['hsv_color1'] = labelencoder.fit_transform(df2['hsv_color1'])\n",
        "df2['hsv_color2'] = labelencoder.fit_transform(df2['hsv_color2'])\n",
        "df2['hsv_color3'] = labelencoder.fit_transform(df2['hsv_color3'])"
      ],
      "metadata": {
        "id": "svQ0AZUvocEk"
      },
      "execution_count": null,
      "outputs": []
    },
    {
      "cell_type": "code",
      "source": [
        "df2['星級']=df2['星級'].astype(str).replace('4.1','1').replace('4.2','1').replace('4.3','1').replace('4.3','1').replace\\\n",
        "('4.4','2').replace('4.5','2').replace('4.6','2').replace('4.7','3').replace('4.8','3').replace('4.9','3')\n",
        "df2['星級']=df2['星級'].astype(int)"
      ],
      "metadata": {
        "id": "BNeBhQHgogy7"
      },
      "execution_count": null,
      "outputs": []
    },
    {
      "cell_type": "code",
      "source": [
        "df2.rename(columns={'評論': 'Comment','行政區':'Administrative_area'}, inplace=True)"
      ],
      "metadata": {
        "id": "AewymtWBom4t"
      },
      "execution_count": null,
      "outputs": []
    },
    {
      "cell_type": "code",
      "source": [
        "df2 = df2.drop(['Comment'], axis=1)"
      ],
      "metadata": {
        "id": "WAUIERZSo_g3"
      },
      "execution_count": null,
      "outputs": []
    },
    {
      "cell_type": "code",
      "source": [
        "data1 = df2.drop([\"星級\"], axis=1) #剔除 y\n",
        "X = data1 \n",
        "y = df2.星級 #選擇 y"
      ],
      "metadata": {
        "id": "C_StU6VcpI4Y"
      },
      "execution_count": null,
      "outputs": []
    },
    {
      "cell_type": "code",
      "source": [
        "X_train, X_test, y_train, y_test = train_test_split(X, y, test_size=0.3, random_state=0)"
      ],
      "metadata": {
        "id": "k6B95WltpOHv"
      },
      "execution_count": null,
      "outputs": []
    },
    {
      "cell_type": "code",
      "source": [
        "lg = LogisticRegression(C=1.0, tol=1e-6, multi_class='multinomial', solver='newton-cg')\n",
        "lg.fit(X_train,y_train)\n",
        "print('在測試數據集上的預測準確率: {:.2f}'.format(lg.score(X_test, y_test)))\n",
        "print(lg.score(X_test, y_test))\n",
        "print (\"\\n\\n ---邏輯回歸---\")"
      ],
      "metadata": {
        "colab": {
          "base_uri": "https://localhost:8080/"
        },
        "id": "ieus-5m7pRFI",
        "outputId": "fd7b299e-2abe-437f-d24d-591b6e0c2d3d"
      },
      "execution_count": null,
      "outputs": [
        {
          "output_type": "stream",
          "name": "stdout",
          "text": [
            "在測試數據集上的預測準確率: 0.57\n",
            "0.5689215060625399\n",
            "\n",
            "\n",
            " ---邏輯回歸---\n"
          ]
        }
      ]
    },
    {
      "cell_type": "code",
      "source": [
        "xgb = XGBClassifier(\n",
        "    #深度\n",
        "    max_depth=3, \n",
        "    #疊帶次數\n",
        "    n_estimators=200,\n",
        "    #學習數率\n",
        "    learn_rate=0.01)\n",
        "xgb.fit(X_train,y_train)\n",
        "print('在測試數據集上的預測準確率: {:.2f}'.format(xgb.score(X_test,y_test)))\n",
        "print(xgb.score(X_test,y_test))\n",
        "print (\"\\n\\n ---xgboost---\")"
      ],
      "metadata": {
        "colab": {
          "base_uri": "https://localhost:8080/"
        },
        "id": "UKy3rDO5pXAf",
        "outputId": "ba0dad14-de48-4394-d48a-1e3eede597b0"
      },
      "execution_count": null,
      "outputs": [
        {
          "output_type": "stream",
          "name": "stdout",
          "text": [
            "在測試數據集上的預測準確率: 0.57\n",
            "0.5682833439693682\n",
            "\n",
            "\n",
            " ---xgboost---\n"
          ]
        }
      ]
    },
    {
      "cell_type": "code",
      "source": [
        "rf_clf = RandomForestClassifier(n_estimators=1000, random_state=42)\n",
        "rf_clf.fit(X_train, y_train)\n",
        "print('在測試數據集上的預測準確率: {:.2f}'.format(rf_clf.score(X_test,y_test)))\n",
        "print(rf_clf.score(X_test,y_test))\n",
        "print (\"\\n\\n ---隨機森林---\")"
      ],
      "metadata": {
        "colab": {
          "base_uri": "https://localhost:8080/"
        },
        "id": "Cgk47Clkphkz",
        "outputId": "304b78c8-5213-4ab6-ae79-e348ba533273"
      },
      "execution_count": null,
      "outputs": [
        {
          "output_type": "stream",
          "name": "stdout",
          "text": [
            "在測試數據集上的預測準確率: 0.55\n",
            "0.5500957243139758\n",
            "\n",
            "\n",
            " ---隨機森林---\n"
          ]
        }
      ]
    },
    {
      "cell_type": "code",
      "source": [
        "tree_clf = DecisionTreeClassifier(random_state=100)\n",
        "tree_clf.fit(X_train, y_train)\n",
        "print('在測試數據集上的預測準確率: {:.2f}'.format(tree_clf.score(X_test,y_test)))\n",
        "print(tree_clf.score(X_test,y_test))\n",
        "print (\"\\n\\n ---決策樹---\")"
      ],
      "metadata": {
        "colab": {
          "base_uri": "https://localhost:8080/"
        },
        "id": "iT5KzsUQpuzg",
        "outputId": "eba91e53-2714-4a80-8ef8-0e56edd25cd5"
      },
      "execution_count": null,
      "outputs": [
        {
          "output_type": "stream",
          "name": "stdout",
          "text": [
            "在測試數據集上的預測準確率: 0.46\n",
            "0.4623484365028717\n",
            "\n",
            "\n",
            " ---決策樹---\n"
          ]
        }
      ]
    },
    {
      "cell_type": "code",
      "source": [
        "gbm = lgb.LGBMClassifier(objective = 'binary',learning_rate = 0.05,n_estimators = 100,random_state=0)\n",
        "gbm.fit(X_train, y_train)\n",
        "print('在測試數據集上的預測準確率: {:.2f}'.format(gbm.score(X_test,y_test)))\n",
        "print(gbm.score(X_test,y_test))\n",
        "print (\"\\n\\n ---lightgbm---\")"
      ],
      "metadata": {
        "colab": {
          "base_uri": "https://localhost:8080/"
        },
        "id": "OIq9yIu3pp8t",
        "outputId": "2e1e7ac2-6d40-4401-d989-29ab5b978f60"
      },
      "execution_count": null,
      "outputs": [
        {
          "output_type": "stream",
          "name": "stdout",
          "text": [
            "在測試數據集上的預測準確率: 0.57\n",
            "0.5698787492022974\n",
            "\n",
            "\n",
            " ---lightgbm---\n"
          ]
        }
      ]
    }
  ]
}