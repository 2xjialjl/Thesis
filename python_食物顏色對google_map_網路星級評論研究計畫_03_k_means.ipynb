{
  "nbformat": 4,
  "nbformat_minor": 0,
  "metadata": {
    "colab": {
      "provenance": [],
      "collapsed_sections": []
    },
    "kernelspec": {
      "name": "python3",
      "display_name": "Python 3"
    },
    "language_info": {
      "name": "python"
    }
  },
  "cells": [
    {
      "cell_type": "code",
      "source": [
        "from google.colab import drive\n",
        "drive.mount('/content/drive')"
      ],
      "metadata": {
        "colab": {
          "base_uri": "https://localhost:8080/"
        },
        "id": "KahxucilJiII",
        "outputId": "3199e5ae-37a2-4dc9-8937-b9df22e0d4b8"
      },
      "execution_count": null,
      "outputs": [
        {
          "output_type": "stream",
          "name": "stdout",
          "text": [
            "Drive already mounted at /content/drive; to attempt to forcibly remount, call drive.mount(\"/content/drive\", force_remount=True).\n"
          ]
        }
      ]
    },
    {
      "cell_type": "code",
      "execution_count": null,
      "metadata": {
        "id": "-ZGShykjJdgH"
      },
      "outputs": [],
      "source": [
        "import cv2 as cv\n",
        "import numpy as np\n",
        "from sklearn.cluster import KMeans\n",
        "from collections import Counter\n",
        "import os\n",
        "import pandas as pd\n",
        "import time\n",
        "from PIL import Image"
      ]
    },
    {
      "cell_type": "code",
      "source": [
        "path = '/content/drive/MyDrive/paper/code/original_data/all1'\n",
        "fileist=os.listdir(path)\n",
        "print(len(fileist))\n",
        "path1 = '/content/drive/MyDrive/paper/code/original_data/all'\n",
        "fileist1=os.listdir(path1)\n",
        "print(len(fileist1))"
      ],
      "metadata": {
        "colab": {
          "base_uri": "https://localhost:8080/"
        },
        "id": "ZNucnq6VocQa",
        "outputId": "4aee0c6f-1852-47a1-a015-a70ab84aafcf"
      },
      "execution_count": null,
      "outputs": [
        {
          "output_type": "stream",
          "name": "stdout",
          "text": [
            "11384\n",
            "11384\n"
          ]
        }
      ]
    },
    {
      "cell_type": "code",
      "source": [
        "tStart = time.time()\n",
        "#1.jpg，2.jpg\n",
        "path = '/content/drive/MyDrive/paper/code/original_data/all1'\n",
        "fileist=os.listdir(path)\n",
        "# (原沙鹿市場口)來來牛排1.jpg，(原沙鹿市場口)來來牛排2.jpg，(原沙鹿市場口)來來牛排3.jpg\n",
        "path1 = '/content/drive/MyDrive/paper/code/original_data/all'\n",
        "fileist1=os.listdir(path1)\n",
        "color_list = []\n",
        "all_color_number = []\n",
        "r_list = []\n",
        "g_list = []\n",
        "b_list = []\n",
        "for i in fileist:\n",
        "    img = cv.imread(\"/content/drive/MyDrive/paper/code/original_data/all1/\"+i)\n",
        "    img = cv.cvtColor(img, cv.COLOR_BGR2RGB)\n",
        "    clt_1 = KMeans(n_clusters=3)\n",
        "    clt_1.fit(img.reshape(-1, 3))\n",
        "    width = 300\n",
        "    palette = np.zeros((50, width, 3), np.uint8)\n",
        "    n_pixels = len(clt_1.labels_)\n",
        "    counter = Counter(clt_1.labels_) # count how many pixels per cluster\n",
        "    perc = {}\n",
        "    for i in counter:\n",
        "        perc[i] = np.round(counter[i]/n_pixels, 2)\n",
        "    perc = dict(sorted(perc.items()))\n",
        "    for w in clt_1.cluster_centers_:\n",
        "        all_color_number.append(w)\n",
        "    color_list1 = clt_1.cluster_centers_.tolist()\n",
        "    color_list.append(color_list1)\n",
        "df = pd.DataFrame()\n",
        "df['name'] = fileist1\n",
        "df['color'] = color_list\n",
        "df.to_csv('/content/drive/MyDrive/paper/code/original_data/photo_to_colo.csv',index=False, encoding='utf-8-sig')\n",
        "try:\n",
        "  os.mkdir('/content/drive/MyDrive/paper/code/original_data/hsv_color')\n",
        "except:\n",
        "  pass\n",
        "for j in all_color_number:\n",
        "    r_list.append(int(j[0]))\n",
        "    g_list.append(int(j[1]))\n",
        "    b_list.append(int(j[2]))\n",
        "for k in range(len(all_color_number)):\n",
        "    im = Image.new(\"RGB\",(64,48) ,(r_list[k], g_list[k],b_list[k]))\n",
        "    im.save('/content/drive/MyDrive/paper/code/original_data/hsv_color/'+str(k)+'.jpg')\n",
        "tEnd = time.time()\n",
        "print('finish')\n",
        "print('所需花費秒數:'+str(tEnd-tStart))"
      ],
      "metadata": {
        "id": "dA0Qh51GJpOe",
        "colab": {
          "base_uri": "https://localhost:8080/"
        },
        "outputId": "c58b40a3-f24f-491a-ca0c-d279fe3f16ac"
      },
      "execution_count": null,
      "outputs": [
        {
          "output_type": "stream",
          "name": "stdout",
          "text": [
            "finish\n",
            "所需花費秒數:8029.494500398636\n"
          ]
        }
      ]
    }
  ]
}