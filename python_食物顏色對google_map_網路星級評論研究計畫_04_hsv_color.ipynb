{
  "nbformat": 4,
  "nbformat_minor": 0,
  "metadata": {
    "colab": {
      "provenance": []
    },
    "kernelspec": {
      "name": "python3",
      "display_name": "Python 3"
    },
    "language_info": {
      "name": "python"
    }
  },
  "cells": [
    {
      "cell_type": "code",
      "source": [
        "from google.colab import drive\n",
        "drive.mount('/content/drive')"
      ],
      "metadata": {
        "colab": {
          "base_uri": "https://localhost:8080/"
        },
        "id": "S03Mp5WsEKW1",
        "outputId": "7b6f68da-0250-4ba6-da77-416d0ff6bff2"
      },
      "execution_count": null,
      "outputs": [
        {
          "output_type": "stream",
          "name": "stdout",
          "text": [
            "Mounted at /content/drive\n"
          ]
        }
      ]
    },
    {
      "cell_type": "code",
      "source": [
        "!pip uninstall opencv-python"
      ],
      "metadata": {
        "colab": {
          "base_uri": "https://localhost:8080/"
        },
        "id": "7m_LuZutFoWn",
        "outputId": "211cdc80-a285-4839-c132-a8d8310fd48c"
      },
      "execution_count": null,
      "outputs": [
        {
          "output_type": "stream",
          "name": "stdout",
          "text": [
            "Found existing installation: opencv-python 4.1.2.30\n",
            "Uninstalling opencv-python-4.1.2.30:\n",
            "  Would remove:\n",
            "    /usr/local/lib/python3.7/dist-packages/cv2/*\n",
            "    /usr/local/lib/python3.7/dist-packages/opencv_python-4.1.2.30.dist-info/*\n",
            "Proceed (y/n)? y\n",
            "  Successfully uninstalled opencv-python-4.1.2.30\n"
          ]
        }
      ]
    },
    {
      "cell_type": "code",
      "source": [
        "!pip uninstall imgaug"
      ],
      "metadata": {
        "colab": {
          "base_uri": "https://localhost:8080/"
        },
        "id": "cSGP2hyMGmHV",
        "outputId": "0eca8c49-468c-4a4c-edd1-a45db8bf37b2"
      },
      "execution_count": null,
      "outputs": [
        {
          "output_type": "stream",
          "name": "stdout",
          "text": [
            "Found existing installation: imgaug 0.2.9\n",
            "Uninstalling imgaug-0.2.9:\n",
            "  Would remove:\n",
            "    /usr/local/lib/python3.7/dist-packages/imgaug-0.2.9.dist-info/*\n",
            "    /usr/local/lib/python3.7/dist-packages/imgaug/*\n",
            "Proceed (y/n)? y\n",
            "  Successfully uninstalled imgaug-0.2.9\n"
          ]
        }
      ]
    },
    {
      "cell_type": "code",
      "source": [
        "!pip install imgaug==0.2.5"
      ],
      "metadata": {
        "colab": {
          "base_uri": "https://localhost:8080/"
        },
        "id": "VgSfR2vPGoWn",
        "outputId": "f6921da6-8631-4bf3-922a-ff63c3047688"
      },
      "execution_count": null,
      "outputs": [
        {
          "output_type": "stream",
          "name": "stdout",
          "text": [
            "Collecting imgaug==0.2.5\n",
            "  Downloading imgaug-0.2.5.tar.gz (562 kB)\n",
            "\u001b[?25l\r\u001b[K     |▋                               | 10 kB 21.8 MB/s eta 0:00:01\r\u001b[K     |█▏                              | 20 kB 26.6 MB/s eta 0:00:01\r\u001b[K     |█▊                              | 30 kB 21.7 MB/s eta 0:00:01\r\u001b[K     |██▎                             | 40 kB 8.6 MB/s eta 0:00:01\r\u001b[K     |███                             | 51 kB 8.4 MB/s eta 0:00:01\r\u001b[K     |███▌                            | 61 kB 9.8 MB/s eta 0:00:01\r\u001b[K     |████                            | 71 kB 9.1 MB/s eta 0:00:01\r\u001b[K     |████▋                           | 81 kB 9.3 MB/s eta 0:00:01\r\u001b[K     |█████▎                          | 92 kB 10.2 MB/s eta 0:00:01\r\u001b[K     |█████▉                          | 102 kB 8.4 MB/s eta 0:00:01\r\u001b[K     |██████▍                         | 112 kB 8.4 MB/s eta 0:00:01\r\u001b[K     |███████                         | 122 kB 8.4 MB/s eta 0:00:01\r\u001b[K     |███████▋                        | 133 kB 8.4 MB/s eta 0:00:01\r\u001b[K     |████████▏                       | 143 kB 8.4 MB/s eta 0:00:01\r\u001b[K     |████████▊                       | 153 kB 8.4 MB/s eta 0:00:01\r\u001b[K     |█████████▎                      | 163 kB 8.4 MB/s eta 0:00:01\r\u001b[K     |██████████                      | 174 kB 8.4 MB/s eta 0:00:01\r\u001b[K     |██████████▌                     | 184 kB 8.4 MB/s eta 0:00:01\r\u001b[K     |███████████                     | 194 kB 8.4 MB/s eta 0:00:01\r\u001b[K     |███████████▋                    | 204 kB 8.4 MB/s eta 0:00:01\r\u001b[K     |████████████▎                   | 215 kB 8.4 MB/s eta 0:00:01\r\u001b[K     |████████████▉                   | 225 kB 8.4 MB/s eta 0:00:01\r\u001b[K     |█████████████▍                  | 235 kB 8.4 MB/s eta 0:00:01\r\u001b[K     |██████████████                  | 245 kB 8.4 MB/s eta 0:00:01\r\u001b[K     |██████████████▋                 | 256 kB 8.4 MB/s eta 0:00:01\r\u001b[K     |███████████████▏                | 266 kB 8.4 MB/s eta 0:00:01\r\u001b[K     |███████████████▊                | 276 kB 8.4 MB/s eta 0:00:01\r\u001b[K     |████████████████▎               | 286 kB 8.4 MB/s eta 0:00:01\r\u001b[K     |████████████████▉               | 296 kB 8.4 MB/s eta 0:00:01\r\u001b[K     |█████████████████▌              | 307 kB 8.4 MB/s eta 0:00:01\r\u001b[K     |██████████████████              | 317 kB 8.4 MB/s eta 0:00:01\r\u001b[K     |██████████████████▋             | 327 kB 8.4 MB/s eta 0:00:01\r\u001b[K     |███████████████████▏            | 337 kB 8.4 MB/s eta 0:00:01\r\u001b[K     |███████████████████▉            | 348 kB 8.4 MB/s eta 0:00:01\r\u001b[K     |████████████████████▍           | 358 kB 8.4 MB/s eta 0:00:01\r\u001b[K     |█████████████████████           | 368 kB 8.4 MB/s eta 0:00:01\r\u001b[K     |█████████████████████▌          | 378 kB 8.4 MB/s eta 0:00:01\r\u001b[K     |██████████████████████▏         | 389 kB 8.4 MB/s eta 0:00:01\r\u001b[K     |██████████████████████▊         | 399 kB 8.4 MB/s eta 0:00:01\r\u001b[K     |███████████████████████▎        | 409 kB 8.4 MB/s eta 0:00:01\r\u001b[K     |███████████████████████▉        | 419 kB 8.4 MB/s eta 0:00:01\r\u001b[K     |████████████████████████▌       | 430 kB 8.4 MB/s eta 0:00:01\r\u001b[K     |█████████████████████████       | 440 kB 8.4 MB/s eta 0:00:01\r\u001b[K     |█████████████████████████▋      | 450 kB 8.4 MB/s eta 0:00:01\r\u001b[K     |██████████████████████████▏     | 460 kB 8.4 MB/s eta 0:00:01\r\u001b[K     |██████████████████████████▉     | 471 kB 8.4 MB/s eta 0:00:01\r\u001b[K     |███████████████████████████▍    | 481 kB 8.4 MB/s eta 0:00:01\r\u001b[K     |████████████████████████████    | 491 kB 8.4 MB/s eta 0:00:01\r\u001b[K     |████████████████████████████▌   | 501 kB 8.4 MB/s eta 0:00:01\r\u001b[K     |█████████████████████████████▏  | 512 kB 8.4 MB/s eta 0:00:01\r\u001b[K     |█████████████████████████████▊  | 522 kB 8.4 MB/s eta 0:00:01\r\u001b[K     |██████████████████████████████▎ | 532 kB 8.4 MB/s eta 0:00:01\r\u001b[K     |██████████████████████████████▉ | 542 kB 8.4 MB/s eta 0:00:01\r\u001b[K     |███████████████████████████████▍| 552 kB 8.4 MB/s eta 0:00:01\r\u001b[K     |████████████████████████████████| 562 kB 8.4 MB/s \n",
            "\u001b[?25hRequirement already satisfied: scipy in /usr/local/lib/python3.7/dist-packages (from imgaug==0.2.5) (1.4.1)\n",
            "Requirement already satisfied: scikit-image>=0.11.0 in /usr/local/lib/python3.7/dist-packages (from imgaug==0.2.5) (0.18.3)\n",
            "Requirement already satisfied: numpy>=1.7.0 in /usr/local/lib/python3.7/dist-packages (from imgaug==0.2.5) (1.21.6)\n",
            "Requirement already satisfied: six in /usr/local/lib/python3.7/dist-packages (from imgaug==0.2.5) (1.15.0)\n",
            "Requirement already satisfied: imageio>=2.3.0 in /usr/local/lib/python3.7/dist-packages (from scikit-image>=0.11.0->imgaug==0.2.5) (2.4.1)\n",
            "Requirement already satisfied: pillow!=7.1.0,!=7.1.1,>=4.3.0 in /usr/local/lib/python3.7/dist-packages (from scikit-image>=0.11.0->imgaug==0.2.5) (7.1.2)\n",
            "Requirement already satisfied: PyWavelets>=1.1.1 in /usr/local/lib/python3.7/dist-packages (from scikit-image>=0.11.0->imgaug==0.2.5) (1.3.0)\n",
            "Requirement already satisfied: matplotlib!=3.0.0,>=2.0.0 in /usr/local/lib/python3.7/dist-packages (from scikit-image>=0.11.0->imgaug==0.2.5) (3.2.2)\n",
            "Requirement already satisfied: networkx>=2.0 in /usr/local/lib/python3.7/dist-packages (from scikit-image>=0.11.0->imgaug==0.2.5) (2.6.3)\n",
            "Requirement already satisfied: tifffile>=2019.7.26 in /usr/local/lib/python3.7/dist-packages (from scikit-image>=0.11.0->imgaug==0.2.5) (2021.11.2)\n",
            "Requirement already satisfied: python-dateutil>=2.1 in /usr/local/lib/python3.7/dist-packages (from matplotlib!=3.0.0,>=2.0.0->scikit-image>=0.11.0->imgaug==0.2.5) (2.8.2)\n",
            "Requirement already satisfied: kiwisolver>=1.0.1 in /usr/local/lib/python3.7/dist-packages (from matplotlib!=3.0.0,>=2.0.0->scikit-image>=0.11.0->imgaug==0.2.5) (1.4.2)\n",
            "Requirement already satisfied: cycler>=0.10 in /usr/local/lib/python3.7/dist-packages (from matplotlib!=3.0.0,>=2.0.0->scikit-image>=0.11.0->imgaug==0.2.5) (0.11.0)\n",
            "Requirement already satisfied: pyparsing!=2.0.4,!=2.1.2,!=2.1.6,>=2.0.1 in /usr/local/lib/python3.7/dist-packages (from matplotlib!=3.0.0,>=2.0.0->scikit-image>=0.11.0->imgaug==0.2.5) (3.0.8)\n",
            "Requirement already satisfied: typing-extensions in /usr/local/lib/python3.7/dist-packages (from kiwisolver>=1.0.1->matplotlib!=3.0.0,>=2.0.0->scikit-image>=0.11.0->imgaug==0.2.5) (4.2.0)\n",
            "Building wheels for collected packages: imgaug\n",
            "  Building wheel for imgaug (setup.py) ... \u001b[?25l\u001b[?25hdone\n",
            "  Created wheel for imgaug: filename=imgaug-0.2.5-py3-none-any.whl size=561438 sha256=e9dcfcd1190e709ceb0c15f11986188648793a20e01434e8eac98018dcc5d9ee\n",
            "  Stored in directory: /root/.cache/pip/wheels/60/dd/38/d1dc2cad2b6a66dc0249261004990bccb0f27985c74ba26e49\n",
            "Successfully built imgaug\n",
            "Installing collected packages: imgaug\n",
            "\u001b[31mERROR: pip's dependency resolver does not currently take into account all the packages that are installed. This behaviour is the source of the following dependency conflicts.\n",
            "albumentations 0.1.12 requires opencv-python, which is not installed.\u001b[0m\n",
            "Successfully installed imgaug-0.2.5\n"
          ]
        }
      ]
    },
    {
      "cell_type": "code",
      "source": [
        "!pip install opencv-python==3.4.3.18"
      ],
      "metadata": {
        "colab": {
          "base_uri": "https://localhost:8080/"
        },
        "id": "Y0jtUjitFsd7",
        "outputId": "268e16c6-ede3-4935-8005-2ebeac67a5ea"
      },
      "execution_count": null,
      "outputs": [
        {
          "output_type": "stream",
          "name": "stdout",
          "text": [
            "Requirement already satisfied: opencv-python==3.4.3.18 in /usr/local/lib/python3.7/dist-packages (3.4.3.18)\n",
            "Requirement already satisfied: numpy>=1.14.5 in /usr/local/lib/python3.7/dist-packages (from opencv-python==3.4.3.18) (1.21.6)\n",
            "\u001b[31mERROR: Operation cancelled by user\u001b[0m\n"
          ]
        }
      ]
    },
    {
      "cell_type": "code",
      "execution_count": null,
      "metadata": {
        "id": "_MwhPYRyDOFM"
      },
      "outputs": [],
      "source": [
        "import cv2\n",
        "import numpy as np\n",
        "import collections\n",
        "import os\n",
        "import time\n",
        "import pandas as pd"
      ]
    },
    {
      "cell_type": "code",
      "source": [
        "def getColorList():\n",
        "    dict = collections.defaultdict(list)\n",
        "\n",
        "    # 黑色\n",
        "    lower_black = np.array([0, 0, 0])\n",
        "    upper_black = np.array([180, 255, 46])\n",
        "    color_list = []\n",
        "    color_list.append(lower_black)\n",
        "    color_list.append(upper_black)\n",
        "    dict['黑色'] = color_list\n",
        "\n",
        "    # 灰色\n",
        "    lower_gray = np.array([0, 0, 46])\n",
        "    upper_gray = np.array([180, 43, 220])\n",
        "    color_list = []\n",
        "    color_list.append(lower_gray)\n",
        "    color_list.append(upper_gray)\n",
        "    dict['灰色']=color_list\n",
        "\n",
        "    # 白色\n",
        "    lower_white = np.array([0, 0, 221])\n",
        "    upper_white = np.array([180, 30, 255])\n",
        "    color_list = []\n",
        "    color_list.append(lower_white)\n",
        "    color_list.append(upper_white)\n",
        "    dict['白色'] = color_list\n",
        "\n",
        "    #紅色\n",
        "    # lower_red = np.array([156, 43, 46])\n",
        "    # upper_red = np.array([180, 255, 255])\n",
        "    # color_list = []\n",
        "    # color_list.append(lower_red)\n",
        "    # color_list.append(upper_red)\n",
        "    # dict['紅色']=color_list\n",
        "\n",
        "    # 紅色2\n",
        "    lower_red = np.array([0, 43, 46])\n",
        "    upper_red = np.array([10, 255, 255])\n",
        "    color_list = []\n",
        "    color_list.append(lower_red)\n",
        "    color_list.append(upper_red)\n",
        "    dict['紅色'] = color_list\n",
        "\n",
        "    #橙色\n",
        "    lower_orange = np.array([11, 43, 46])\n",
        "    upper_orange = np.array([25, 255, 255])\n",
        "    color_list = []\n",
        "    color_list.append(lower_orange)\n",
        "    color_list.append(upper_orange)\n",
        "    dict['橙色'] = color_list\n",
        "\n",
        "    #黃色\n",
        "    lower_yellow = np.array([26, 43, 46])\n",
        "    upper_yellow = np.array([34, 255, 255])\n",
        "    color_list = []\n",
        "    color_list.append(lower_yellow)\n",
        "    color_list.append(upper_yellow)\n",
        "    dict['黃色'] = color_list\n",
        "\n",
        "    #綠色\n",
        "    lower_green = np.array([35, 43, 46])\n",
        "    upper_green = np.array([77, 255, 255])\n",
        "    color_list = []\n",
        "    color_list.append(lower_green)\n",
        "    color_list.append(upper_green)\n",
        "    dict['綠色'] = color_list\n",
        "\n",
        "    #青色\n",
        "    lower_cyan = np.array([78, 43, 46])\n",
        "    upper_cyan = np.array([99, 255, 255])\n",
        "    color_list = []\n",
        "    color_list.append(lower_cyan)\n",
        "    color_list.append(upper_cyan)\n",
        "    dict['青色'] = color_list\n",
        "\n",
        "    #藍色\n",
        "    lower_blue = np.array([100, 43, 46])\n",
        "    upper_blue = np.array([124, 255, 255])\n",
        "    color_list = []\n",
        "    color_list.append(lower_blue)\n",
        "    color_list.append(upper_blue)\n",
        "    dict['藍色'] = color_list\n",
        "\n",
        "    # 紫色\n",
        "    lower_purple = np.array([125, 43, 46])\n",
        "    upper_purple = np.array([155, 255, 255])\n",
        "    color_list = []\n",
        "    color_list.append(lower_purple)\n",
        "    color_list.append(upper_purple)\n",
        "    dict['紫色'] = color_list\n",
        "\n",
        "    return dict"
      ],
      "metadata": {
        "id": "Sxonkhi1DPj9"
      },
      "execution_count": null,
      "outputs": []
    },
    {
      "cell_type": "code",
      "source": [
        "tStart = time.time()\n",
        "path = '/content/drive/MyDrive/paper/code/original_data/hsv_color/'\n",
        "fileist=os.listdir(path)\n",
        "color_list = []\n",
        "color_list1 =[]\n",
        "for i in fileist:\n",
        "    filename=path+i\n",
        "    frame = cv2.imread(filename)\n",
        "    hsv = cv2.cvtColor(frame, cv2.COLOR_BGR2HSV)\n",
        "    maxsum = -100\n",
        "    color = None\n",
        "    color_dict = getColorList()\n",
        "    for d in color_dict:\n",
        "        mask = cv2.inRange(hsv,color_dict[d][0],color_dict[d][1])\n",
        "        binary = cv2.threshold(mask, 127, 255, cv2.THRESH_BINARY)[1]\n",
        "        binary = cv2.dilate(binary,None,iterations=2)\n",
        "        img, cnts, hiera = cv2.findContours(binary.copy(),cv2.RETR_EXTERNAL,cv2.CHAIN_APPROX_SIMPLE)\n",
        "        sum = 0\n",
        "        for c in cnts:\n",
        "            sum+=cv2.contourArea(c)\n",
        "        if sum > maxsum :\n",
        "            maxsum = sum\n",
        "            color = d\n",
        "    color_list.append(color)\n",
        "#print(color_list)\n",
        "step=3\n",
        "three_to_one_list = [color_list[i:i+step] for i in range(0,len(color_list),step)]\n",
        "for k in three_to_one_list:\n",
        "    color_list1.append(k)\n",
        "df = pd.read_csv('/content/drive/MyDrive/paper/code/original_data/photo_to_colo.csv')\n",
        "df['hsv_color']= color_list1\n",
        "df.to_csv('/content/drive/MyDrive/paper/code/original_data/photo_to_colo.csv',index=False, encoding='utf-8-sig')\n",
        "dict = {}\n",
        "for key in color_list:\n",
        "    dict[key] = dict.get(key, 0) + 1\n",
        "print(dict)\n",
        "tEnd = time.time()\n",
        "print('finish')\n",
        "print('所需花費秒數:'+str(tEnd-tStart))"
      ],
      "metadata": {
        "colab": {
          "base_uri": "https://localhost:8080/"
        },
        "id": "JDFY-mjoDVhr",
        "outputId": "1765112b-af4e-4513-b7de-f27109c9d669"
      },
      "execution_count": null,
      "outputs": [
        {
          "output_type": "stream",
          "name": "stdout",
          "text": [
            "{'黑色': 3349, '黃色': 521, '橙色': 18840, '灰色': 6728, '白色': 1025, '紅色': 3203, '藍色': 165, '綠色': 245, '紫色': 23, '青色': 53}\n",
            "finish\n",
            "所需花費秒數:764.658445596695\n"
          ]
        }
      ]
    }
  ]
}