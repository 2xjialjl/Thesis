{
  "nbformat": 4,
  "nbformat_minor": 0,
  "metadata": {
    "colab": {
      "provenance": []
    },
    "kernelspec": {
      "name": "python3",
      "display_name": "Python 3"
    },
    "language_info": {
      "name": "python"
    }
  },
  "cells": [
    {
      "cell_type": "code",
      "source": [
        "from google.colab import drive\n",
        "drive.mount('/content/drive')"
      ],
      "metadata": {
        "colab": {
          "base_uri": "https://localhost:8080/"
        },
        "id": "mdvipmne0Xp9",
        "outputId": "ba2d4dc2-417e-48d0-ea55-b7963f1707e9"
      },
      "execution_count": null,
      "outputs": [
        {
          "output_type": "stream",
          "name": "stdout",
          "text": [
            "Mounted at /content/drive\n"
          ]
        }
      ]
    },
    {
      "cell_type": "code",
      "execution_count": null,
      "metadata": {
        "id": "v3FinYA50FTr"
      },
      "outputs": [],
      "source": [
        "import os\n",
        "import re\n",
        "import shutil\n",
        "import pandas as pd\n",
        "from pathlib import Path"
      ]
    },
    {
      "cell_type": "markdown",
      "source": [
        "# 新增資料夾以存放所有照片"
      ],
      "metadata": {
        "id": "imbNmuYC0fjT"
      }
    },
    {
      "cell_type": "code",
      "source": [
        "try:\n",
        "  os.mkdir('/content/drive/MyDrive/paper/code/original_data/all')\n",
        "except:\n",
        "  pass"
      ],
      "metadata": {
        "id": "z65kNFSt0VlN"
      },
      "execution_count": null,
      "outputs": []
    },
    {
      "cell_type": "markdown",
      "source": [
        "# 將圖片複製到一個資料夾內"
      ],
      "metadata": {
        "id": "4zYIUgZP5gHG"
      }
    },
    {
      "cell_type": "code",
      "source": [
        "for w in range(1,3):\n",
        "  path = '/content/drive/MyDrive/paper/code/original_data/'+str(w)\n",
        "  dirlist = os.listdir(path)\n",
        "  image_path = []\n",
        "  for i in dirlist:\n",
        "      if re.search('images$', i):\n",
        "          image_path.append(i)\n",
        "  new_path = '/content/drive/MyDrive/paper/code/original_data/all'\n",
        "  for j in range(len(image_path)):\n",
        "      path_three = path+'/'+image_path[j]\n",
        "      for file in os.listdir(path_three):\n",
        "        full_file = os.path.join(path_three, file)\n",
        "        new_full_file = os.path.join(new_path, file)\n",
        "        shutil.copy(full_file, new_full_file)\n",
        "        #看的到資料在複製但是很慢\n",
        "        #print(str(full_file)+\">>>>>>\"+str(new_full_file))\n",
        "print('done')"
      ],
      "metadata": {
        "colab": {
          "base_uri": "https://localhost:8080/"
        },
        "id": "lYrdr1lB1PE6",
        "outputId": "a09e7ae8-b0de-4945-fc2c-1b63567d0a66"
      },
      "execution_count": null,
      "outputs": [
        {
          "output_type": "stream",
          "name": "stdout",
          "text": [
            "done\n"
          ]
        }
      ]
    },
    {
      "cell_type": "markdown",
      "source": [
        "# 將圖片重新命名"
      ],
      "metadata": {
        "id": "UwbhzfJz5oJm"
      }
    },
    {
      "cell_type": "code",
      "source": [
        "try:\n",
        "  os.mkdir('/content/drive/MyDrive/paper/code/original_data/all1')\n",
        "except:\n",
        "  pass\n",
        "path = '/content/drive/MyDrive/paper/code/original_data/all'\n",
        "new_path = '/content/drive/MyDrive/paper/code/original_data/all1'\n",
        "fileist=os.listdir(path)\n",
        "n=0\n",
        "for i in fileist:\n",
        "    oldname= path + os.sep + fileist[n]\n",
        "    newname = new_path + os.sep + str(n + 1) + '.jpg'\n",
        "    os.rename(oldname, newname)\n",
        "    #看的到資料在改檔名但是很慢\n",
        "    #print(oldname, '======>', newname)\n",
        "    n += 1\n",
        "print('down')"
      ],
      "metadata": {
        "colab": {
          "base_uri": "https://localhost:8080/"
        },
        "id": "6Vx4AO3J5rcp",
        "outputId": "d808a9e8-643f-4aa8-9cf9-2d0134647365"
      },
      "execution_count": null,
      "outputs": [
        {
          "output_type": "stream",
          "name": "stdout",
          "text": [
            "down\n"
          ]
        }
      ]
    },
    {
      "cell_type": "code",
      "source": [
        "for w in range(1,3):\n",
        "  path = '/content/drive/MyDrive/paper/code/original_data/'+str(w)\n",
        "  dirlist = os.listdir(path)\n",
        "  image_path = []\n",
        "  for i in dirlist:\n",
        "      if re.search('images$', i):\n",
        "          image_path.append(i)\n",
        "  new_path = '/content/drive/MyDrive/paper/code/original_data/all'\n",
        "  for j in range(len(image_path)):\n",
        "      path_three = path+'/'+image_path[j]\n",
        "      for file in os.listdir(path_three):\n",
        "        full_file = os.path.join(path_three, file)\n",
        "        new_full_file = os.path.join(new_path, file)\n",
        "        shutil.copy(full_file, new_full_file)\n",
        "        #看的到資料在複製但是很慢\n",
        "        #print(str(full_file)+\">>>>>>\"+str(new_full_file))\n",
        "print('done')"
      ],
      "metadata": {
        "colab": {
          "base_uri": "https://localhost:8080/"
        },
        "id": "tA0GwDXT-MO2",
        "outputId": "f5798454-8641-402c-bb33-3b8cce4ae0df"
      },
      "execution_count": null,
      "outputs": [
        {
          "output_type": "stream",
          "name": "stdout",
          "text": [
            "done\n"
          ]
        }
      ]
    },
    {
      "cell_type": "markdown",
      "source": [
        "# 將csv檔複製到同一個資料夾"
      ],
      "metadata": {
        "id": "qZX4iDv2INjV"
      }
    },
    {
      "cell_type": "code",
      "source": [
        "try:\n",
        "  os.mkdir('/content/drive/MyDrive/paper/code/original_data/all_csv_file')\n",
        "except:\n",
        "  pass\n",
        "for w in range(1,3):\n",
        "  path = '/content/drive/MyDrive/paper/code/original_data/'+str(w)+'/'\n",
        "  fileist=os.listdir(path)\n",
        "  #src = 'D:\\東海研究所\\論文_data\\\\3\\\\'\n",
        "  dst = '/content/drive/MyDrive/paper/code/original_data/all_csv_file/'\n",
        "  for i in fileist:\n",
        "      if re.search('篩選地址.csv$', i):\n",
        "          src1 = path+i\n",
        "          dst1 = dst+i\n",
        "          shutil.copyfile(src1, dst1)\n",
        "print('done')"
      ],
      "metadata": {
        "colab": {
          "base_uri": "https://localhost:8080/"
        },
        "id": "iIpYRSmO8EUd",
        "outputId": "ff394be9-932e-4cb6-c91b-8acca5120441"
      },
      "execution_count": null,
      "outputs": [
        {
          "output_type": "stream",
          "name": "stdout",
          "text": [
            "done\n"
          ]
        }
      ]
    },
    {
      "cell_type": "markdown",
      "source": [
        "# 將各個csv檔合併"
      ],
      "metadata": {
        "id": "iKFXzwg7IXuy"
      }
    },
    {
      "cell_type": "code",
      "source": [
        "excel_dir = Path('/content/drive/MyDrive/paper/code/original_data/all_csv_file/')\n",
        "excel_files = excel_dir.glob('*.csv')\n",
        "df = pd.DataFrame()\n",
        "for xls in excel_files:\n",
        "    data = pd.read_csv(xls, sep=',')\n",
        "    df = df.append(data)\n",
        "df.to_csv('/content/drive/MyDrive/paper/code/original_data/all_csv.csv', encoding='utf-8-sig', index=False, sep=',')"
      ],
      "metadata": {
        "id": "pz1_dqKLIIbv"
      },
      "execution_count": null,
      "outputs": []
    }
  ]
}